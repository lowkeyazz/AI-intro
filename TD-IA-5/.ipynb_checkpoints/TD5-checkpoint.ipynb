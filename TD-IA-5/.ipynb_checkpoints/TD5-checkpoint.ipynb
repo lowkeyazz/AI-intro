{
 "cells": [
  {
   "cell_type": "markdown",
   "id": "772b2951",
   "metadata": {},
   "source": [
    "# Algorithmes de recherche informée\n"
   ]
  },
  {
   "cell_type": "markdown",
   "id": "1689727d",
   "metadata": {},
   "source": [
    "Les algorithmes que nous allons implementer dans ce TD serons utilisés pour resoudre les problèmes formalisés dans le TD3 précedent. Donc nous devons d'abord charger le notebook TD3-solution.ipynb précédent:  "
   ]
  },
  {
   "cell_type": "code",
   "execution_count": 31,
   "id": "824783e6",
   "metadata": {},
   "outputs": [],
   "source": [
    "%%capture\n",
    "%run   'TD3-solution.ipynb'\n",
    " "
   ]
  },
  {
   "cell_type": "markdown",
   "id": "467b0ad4",
   "metadata": {},
   "source": [
    "La fonction squelette d'un algorithme de recherche graphique est :\n",
    "\n",
    "```\n",
    "function  GRAPH-SEARCH( problem, frontier) returns a solution, or failure \n",
    "         initialize the frontier using the initial state of problem\n",
    "         initialize the explored set to empty  \n",
    "         loop do\n",
    "                if the frontier is empty then return failure\n",
    "                choose a leaf node and remove it from the frontier\n",
    "                if the node contains a goal state then \n",
    "                         return the corresponding solution \n",
    "                add the node  explored set\n",
    "                expand the chosen node, adding the resulting nodes to the frontier \n",
    "```"
   ]
  },
  {
   "cell_type": "markdown",
   "id": "683a73f5",
   "metadata": {},
   "source": [
    "La recherche graphique  est basée sur la notion de noeud dont l'implémentation est donnée dans la cellule suivante:"
   ]
  },
  {
   "cell_type": "code",
   "execution_count": 3,
   "id": "f21ef0e7",
   "metadata": {},
   "outputs": [],
   "source": [
    "\n",
    "        \n",
    "class Node:\n",
    "    \"\"\"A node in a search tree. Contains a pointer to the parent (the node\n",
    "    that this is a successor of) and to the actual state for this node. Note\n",
    "    that if a state is arrived at by two paths, then there are two nodes with\n",
    "    the same state. Also includes the action that got us to this state, and\n",
    "    the total path_cost (also known as g) to reach the node. Other functions\n",
    "    may add an f and h value; see best_first_graph_search and astar_search for\n",
    "    an explanation of how the f and h values are handled. You will not need to\n",
    "    subclass this class.\"\"\"\n",
    "\n",
    "    def __init__(self, state, parent=None, action=None, path_cost=0):\n",
    "        \"\"\"Create a search tree Node, derived from a parent by an action.\"\"\"\n",
    "        self.state = state\n",
    "        self.parent = parent\n",
    "        self.action = action\n",
    "        self.path_cost = path_cost\n",
    "        self.depth = 0\n",
    "        if parent:\n",
    "            self.depth = parent.depth + 1\n",
    "\n",
    "    def __repr__(self):\n",
    "        return \"<Node {}>\".format(self.state)\n",
    "\n",
    "    def __lt__(self, node):\n",
    "        return self.state < node.state\n",
    "\n",
    "    def expand(self, problem):\n",
    "        \"\"\"List the nodes reachable in one step from this node.\"\"\"\n",
    "        return [self.child_node(problem, action)\n",
    "                for action in problem.actions(self.state)]\n",
    "\n",
    "    def child_node(self, problem, action):\n",
    "        \"\"\"[Figure 3.10]\"\"\"\n",
    "        next_state = problem.get_successors(self.state, action)\n",
    "        next_node = Node(next_state, self, action, problem.path_cost(self.path_cost, self.state, action, next_state))\n",
    "        return next_node\n",
    "\n",
    "    def solution(self):\n",
    "        \"\"\"Return the sequence of actions to go from the root to this node.\"\"\"\n",
    "        return [node.action for node in self.path()[1:]]\n",
    "\n",
    "    def path(self):\n",
    "        \"\"\"Return a list of nodes forming the path from the root to this node.\"\"\"\n",
    "        node, path_back = self, []\n",
    "        while node:\n",
    "            path_back.append(node)\n",
    "            node = node.parent\n",
    "        return list(reversed(path_back))\n",
    "\n",
    "    # We want for a queue of nodes in breadth_first_graph_search or\n",
    "    # astar_search to have no duplicated states, so we treat nodes\n",
    "    # with the same state as equal. [Problem: this may not be what you\n",
    "    # want in other contexts.]\n",
    "\n",
    "    def __eq__(self, other):\n",
    "        return isinstance(other, Node) and self.state == other.state\n",
    "\n",
    "    def __hash__(self):\n",
    "        # We use the hash value of the state\n",
    "        # stored in the node instead of the node\n",
    "        # object itself to quickly search a node\n",
    "        # with the same state in a Hash Table\n",
    "        return hash(self.state)\n"
   ]
  },
  {
   "cell_type": "markdown",
   "id": "66d1c5a8",
   "metadata": {},
   "source": [
    "### 1. Algorithme de recherche à coùt uniforme (Uniform cost search)"
   ]
  },
  {
   "cell_type": "code",
   "execution_count": 38,
   "id": "ec145355",
   "metadata": {},
   "outputs": [],
   "source": [
    "\n",
    "# In this algorithm we use FIFO Queue then we must import deque from pyhton collections modul\n",
    "from collections import deque\n",
    "\n",
    "def breadth_first_graph_search(problem):\n",
    "    \"\"\" \n",
    "    Note that this function can be implemented in a\n",
    "    single line as below:\n",
    "    return graph_search(problem, FIFOQueue())\n",
    "    where graph_search is the implementation of the algorithm above\n",
    "    \"\"\"\n",
    "    node = Node(problem.initial)\n",
    "    if problem.is_goal_state(node.state): \n",
    "        return node\n",
    "    frontier = deque([node])\n",
    "    explored = set()\n",
    "    while frontier:\n",
    "        node = frontier.popleft()  \n",
    "        explored.add(node.state)\n",
    "        for child in node.expand(problem):\n",
    "            if child.state not in explored and child not in frontier:\n",
    "                if problem.is_goal_state(child.state):\n",
    "                    return child\n",
    "                frontier.append(child)\n",
    "    return None\n",
    "\n",
    "\n",
    "\n"
   ]
  },
  {
   "cell_type": "code",
   "execution_count": 39,
   "id": "fc103648",
   "metadata": {},
   "outputs": [
    {
     "name": "stdout",
     "output_type": "stream",
     "text": [
      "((2, 5, 3), (1, 4), (), (), ())\n",
      "((2, 5), (1, 4), (3,), (), ())\n",
      "((2,), (1, 4), (3,), (5,), ())\n",
      "((2,), (1,), (3,), (5, 4), ())\n",
      "((2,), (1,), (), (5, 4, 3), ())\n",
      "((), (1,), (), (5, 4, 3, 2), ())\n",
      "((), (), (), (5, 4, 3, 2, 1), ())\n"
     ]
    }
   ],
   "source": [
    "# Tester la résoulution les problèmes du TD3 par cet algorithme\n",
    "# Votre code ici\n",
    "goal_node = breadth_first_graph_search(world_block_problem)\n",
    "\n",
    "for n in goal_node.path():\n",
    "    print(n.state)\n",
    "    \n",
    " "
   ]
  },
  {
   "cell_type": "markdown",
   "id": "d7498136",
   "metadata": {},
   "source": [
    "### 2. Algorithme de recherche g (Depth first search)"
   ]
  },
  {
   "cell_type": "code",
   "execution_count": null,
   "id": "f6f0007d",
   "metadata": {},
   "outputs": [],
   "source": [
    "# Votre code ici"
   ]
  },
  {
   "cell_type": "code",
   "execution_count": null,
   "id": "28379856",
   "metadata": {},
   "outputs": [],
   "source": [
    "# Tester la résoulution les problèmes du TD3 par cet algorithme\n",
    "# Votre code ici\n",
    "\n",
    "\n"
   ]
  },
  {
   "cell_type": "markdown",
   "id": "76154756",
   "metadata": {},
   "source": [
    "### 3. Algorithme de recherche en profondeur limité (Limited Depth Search)"
   ]
  },
  {
   "cell_type": "code",
   "execution_count": null,
   "id": "c40d47a6",
   "metadata": {},
   "outputs": [],
   "source": [
    "# Votre code ici"
   ]
  },
  {
   "cell_type": "code",
   "execution_count": null,
   "id": "8a50206d",
   "metadata": {},
   "outputs": [],
   "source": [
    "# Tester la résoulution les problèmes du TD3 par cet algorithme\n",
    "# Votre code ici\n",
    "\n",
    "\n"
   ]
  },
  {
   "cell_type": "markdown",
   "id": "eff3c030",
   "metadata": {},
   "source": [
    "### 4. Algorithme de recherche d'approfondissement itérative (iterative deepening search)"
   ]
  },
  {
   "cell_type": "code",
   "execution_count": null,
   "id": "4a770554",
   "metadata": {},
   "outputs": [],
   "source": [
    "# Votre code ici"
   ]
  },
  {
   "cell_type": "code",
   "execution_count": null,
   "id": "974d8ee9",
   "metadata": {},
   "outputs": [],
   "source": [
    "# Tester la résoulution les problèmes du TD3 par cet algorithme\n",
    "# Votre code ici"
   ]
  }
 ],
 "metadata": {
  "kernelspec": {
   "display_name": "Python 3 (ipykernel)",
   "language": "python",
   "name": "python3"
  },
  "language_info": {
   "codemirror_mode": {
    "name": "ipython",
    "version": 3
   },
   "file_extension": ".py",
   "mimetype": "text/x-python",
   "name": "python",
   "nbconvert_exporter": "python",
   "pygments_lexer": "ipython3",
   "version": "3.9.12"
  }
 },
 "nbformat": 4,
 "nbformat_minor": 5
}
