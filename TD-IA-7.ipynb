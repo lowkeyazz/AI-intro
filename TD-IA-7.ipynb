{
 "cells": [
  {
   "cell_type": "markdown",
   "metadata": {},
   "source": [
    "# Algorithme génétique"
   ]
  },
  {
   "cell_type": "markdown",
   "metadata": {},
   "source": [
    "### Présentation rapide\n",
    " \n",
    " Un algorithme génétique comprend une population (groupe) d'individus appelés chromosomes. Les chromosomes, chacun composé de gènes qui spécifient leurs traits, sont en compétition pour résoudre un problème. La capacité d'un chromosome à résoudre un problème est définie par une fonction de fitness.\n",
    "\n",
    "L'algorithme génétique traverse les générations. À chaque génération, les chromosomes les plus adaptés sont plus susceptibles d'être sélectionnés pour se reproduire. Il y a aussi une probabilité à chaque génération que deux chromosomes voient leurs gènes fusionnés. C'est ce qu'on appelle le croisement. Et enfin, il y a la possibilité à chaque génération qu'un gène d'un chromosome puisse muter (changer au hasard).\n",
    "\n",
    "Une fois que la fonction de fitness d'un individu de la population a franchi un seuil spécifié, ou que l'algorithme a traversé un nombre maximal de générations spécifié, le meilleur individu (celui qui a obtenu le score le plus élevé dans la fonction de fitness) est renvoyé.\n",
    "\n",
    "Les algorithmes génétiques ne sont pas une bonne solution à tous les problèmes. Ils dépendent de trois opérations partiellement ou totalement stochastiques (déterminées aléatoirement) : sélection, croisement et mutation. Par conséquent, ils peuvent ne pas trouver une solution optimale dans un délai raisonnable. Pour la plupart des problèmes, des algorithmes plus déterministes existent avec de meilleures garanties. Mais il existe des problèmes pour lesquels aucun algorithme déterministe rapide n'existe. Dans ces cas, les algorithmes génétiques sont un bon choix."
   ]
  },
  {
   "cell_type": "markdown",
   "metadata": {},
   "source": [
    "### Implementation \n",
    "\n",
    "\n",
    "Nous utiliserons une implémentation générique de l'algorithme génétique (AG).\n",
    "Commençons par les déclarations de types génériques et l'importation de modules."
   ]
  },
  {
   "cell_type": "code",
   "execution_count": 1,
   "metadata": {},
   "outputs": [],
   "source": [
    "from random import choices, choice, randint, randrange, shuffle, sample\n",
    "from random import random as rnd\n",
    "from typing import List, Optional, Callable, Tuple, Set\n",
    "from copy import  deepcopy\n",
    "from functools import partial, reduce\n",
    "from statistics import mean, stdev\n",
    "\n",
    "\n",
    "Genome = List[int] \n",
    "Chromosome = List[int] \n",
    "Population = List[Chromosome]\n",
    "PopulateFunc = Callable[[], Population]\n",
    "FitnessFunc = Callable[[Chromosome], int]\n",
    "SelectionFunc = Callable[[Population, FitnessFunc], Tuple[Chromosome, Chromosome]]\n",
    "CrossoverFunc = Callable[[Chromosome, Chromosome], Tuple[Chromosome, Chromosome]]\n",
    "MutationFunc = Callable[[Chromosome], Chromosome]\n",
    "PrinterFunc = Callable[[Population, int, FitnessFunc], None]\n",
    "\n"
   ]
  },
  {
   "cell_type": "markdown",
   "metadata": {},
   "source": [
    "#### 1) Écrivez une fonction qui génère aléatoirement un chromosome.\n",
    "Remarque : utilisez les fonctions choices et choice du module random.\n",
    "syntaxe pour  choices :\n",
    "choices(population, weights=None, *, cum_weights=None, k=1)\n",
    "\n",
    "complétez le code suivant :"
   ]
  },
  {
   "cell_type": "code",
   "execution_count": 9,
   "metadata": {},
   "outputs": [],
   "source": [
    "#help(choices)\n",
    "def generate_chromosome(genome: Genome, \n",
    "                        chromosome_length=None, \n",
    "                        use_shuffle=False) -> Chromosome:\n",
    "    \n",
    "    if use_shuffle :\n",
    "        chromosome = genome.copy()\n",
    "        shuffle(chromosome)\n",
    "        return chromosome\n",
    "    else:\n",
    "        if  chromosome_length is None: \n",
    "            return choices(genome, k=len(genome))\n",
    "        else:\n",
    "            return choices(genome, k=chromosome_length)\n",
    "            \n",
    "\n"
   ]
  },
  {
   "cell_type": "markdown",
   "metadata": {},
   "source": [
    "Tester votre fonction"
   ]
  },
  {
   "cell_type": "code",
   "execution_count": 10,
   "metadata": {},
   "outputs": [
    {
     "name": "stdout",
     "output_type": "stream",
     "text": [
      "[1, 0, 1, 1, 1, 0, 1, 1, 1, 1]\n",
      "[4, 0, 4, 4]\n",
      "[5, 3, 8, 7, 1, 4, 0, 6]\n"
     ]
    }
   ],
   "source": [
    "print(generate_chromosome([0,1], 10))\n",
    "print(generate_chromosome([0,1, 3, 4] ))\n",
    "print(generate_chromosome([0,1, 3, 4, 5, 6, 7, 8], use_shuffle=True ))"
   ]
  },
  {
   "cell_type": "markdown",
   "metadata": {},
   "source": [
    "#### 2) Écrivez une fonction qui génère aléatoirement une population.\n",
    "Remarque : quand il est possible, chaque chromosome de la population est unique . \n",
    "Utilisez la fonction generate_chromosome."
   ]
  },
  {
   "cell_type": "code",
   "execution_count": 12,
   "metadata": {},
   "outputs": [],
   "source": [
    "def generate_population(size: int, genome: Genome, \n",
    "                        chromosome_length=None, \n",
    "                        use_shuffle=False) -> Population: \n",
    "    population = [] \n",
    "    i=0\n",
    "    while len(population) < size:\n",
    "        chromosome = generate_chromosome(genome,chromosome_length,use_shuffle)\n",
    "        if not chromosome in population or i==10:\n",
    "            population.append(chromosome)\n",
    "            i=0\n",
    "        else:\n",
    "            i=i+1\n",
    "    return population\n",
    "    "
   ]
  },
  {
   "cell_type": "markdown",
   "metadata": {},
   "source": [
    "Test your code"
   ]
  },
  {
   "cell_type": "code",
   "execution_count": 13,
   "metadata": {},
   "outputs": [
    {
     "name": "stdout",
     "output_type": "stream",
     "text": [
      "without shuffle\n",
      "[[2, 5, 2, 5, 4, 2], [1, 2, 3, 5, 3, 0], [2, 3, 2, 3, 0, 5], [3, 1, 1, 0, 4, 0]]\n",
      "with shuffle\n",
      "[[5, 1, 0, 4, 2, 3], [3, 2, 4, 5, 1, 0], [5, 1, 0, 3, 4, 2], [4, 0, 5, 1, 3, 2]]\n"
     ]
    }
   ],
   "source": [
    "print(\"without shuffle\")\n",
    "print(generate_population(4,   [0, 1, 2, 3, 4, 5], 6) )\n",
    "print(\"with shuffle\")\n",
    "print(generate_population(4,   [0, 1, 2, 3, 4, 5], 6, True) )"
   ]
  },
  {
   "cell_type": "markdown",
   "metadata": {},
   "source": [
    "#### 3) Écrivez une fonction qui simule un croisement à un seul point\n",
    "\n",
    "Croisez (combinez) les chromosomes donnés pour créer des enfants qui représentent la population de la prochaine génération.\n",
    "Remarque : utilisez les fonctions len() et randint(start, end)."
   ]
  },
  {
   "cell_type": "code",
   "execution_count": 14,
   "metadata": {},
   "outputs": [],
   "source": [
    "def single_point_crossover(a: Chromosome, b: Chromosome) -> Tuple[Chromosome, Chromosome]:\n",
    "    if not len(a)==len(b):\n",
    "        raise ValueError(\"The given chromosones don't have the same length!\")\n",
    "    r = randint(1, len(a)-1) \n",
    "    x, y = a.copy(), b.copy()  \n",
    "    x[r:],y[r:]= y[r:],x[r:]\n",
    "    return x,y"
   ]
  },
  {
   "cell_type": "code",
   "execution_count": 15,
   "metadata": {},
   "outputs": [
    {
     "data": {
      "text/plain": [
       "([2, 5, 2, 5, 3, 0], [1, 2, 3, 5, 4, 2])"
      ]
     },
     "execution_count": 15,
     "metadata": {},
     "output_type": "execute_result"
    }
   ],
   "source": [
    "single_point_crossover([2, 5, 2, 5, 4, 2],[1, 2, 3, 5, 3, 0])"
   ]
  },
  {
   "cell_type": "markdown",
   "metadata": {},
   "source": [
    "#### 4) Écrire une fonction qui simule le processus de mutation\n",
    "\n",
    "Créez une copie du chromosome et utilisez la fonction randrange pour sélectionner au hasard l'index du gène à muter. le gène de remplacement est choisi au hasard dans le genome. la fonction rnd génére un nombre aléatoire entre 0 et 1.\n"
   ]
  },
  {
   "cell_type": "code",
   "execution_count": 81,
   "metadata": {},
   "outputs": [],
   "source": [
    "def mutation(chromosome: Chromosome, genome: Genome, probability: float = 0.05) -> Chromosome:\n",
    "    \"\"\"Mutate, usually with a low probability, the given chromosome. \n",
    "     @param chromosome: chromosome to mutate\n",
    "     @param probability: probability that a mutation attempt will be successful\n",
    "    \"\"\"\n",
    "    chromosome  = chromosome.copy() \n",
    "    gen = genome.copy()\n",
    "    for i in range(len(chromosome)):\n",
    "        r = rnd() \n",
    "        if r < probability:\n",
    "            gen.remove(chromosome[i])\n",
    "            g = gen[randint(0,len(gen)-1)]\n",
    "            gen.append(chromosome[i])\n",
    "            chromosome[i]=g\n",
    "        #i = randrange(0,len(chromosome))\n",
    "        #j = randrange(0,len(genome))\n",
    "        #chromosome[i]= genome[j]\n",
    "        \n",
    "    return chromosome\n",
    "    \n",
    "\n"
   ]
  },
  {
   "cell_type": "code",
   "execution_count": 111,
   "metadata": {},
   "outputs": [
    {
     "data": {
      "text/plain": [
       "[1, 1, 2, 3, 2, 0]"
      ]
     },
     "execution_count": 111,
     "metadata": {},
     "output_type": "execute_result"
    }
   ],
   "source": [
    "mutation([1, 1, 2, 3, 2, 0], [0, 1, 2, 3],  probability=0.1) "
   ]
  },
  {
   "cell_type": "markdown",
   "metadata": {},
   "source": [
    "#### 5) Ecrire une fonction qui renvoie la somme des fitness de tous les individus d'une population\n",
    "utiliser les fonctions de reduce et map"
   ]
  },
  {
   "cell_type": "code",
   "execution_count": 114,
   "metadata": {},
   "outputs": [],
   "source": [
    "def population_fitness(population: Population, fitness_func: FitnessFunc) -> int:\n",
    "    return reduce(lambda x,y: x+y, map(fitness_func,population))\n"
   ]
  },
  {
   "cell_type": "code",
   "execution_count": 139,
   "metadata": {},
   "outputs": [
    {
     "name": "stdout",
     "output_type": "stream",
     "text": [
      "61\n"
     ]
    }
   ],
   "source": [
    "p=generate_population(4,   [0, 1, 2, 3, 4, 5], 6)\n",
    "print(population_fitness(p, lambda x : sum(x)))"
   ]
  },
  {
   "cell_type": "markdown",
   "metadata": {},
   "source": [
    "#### 6) Écrivez une fonction qui sélectionne une paire d'individus à reproduire, avec une probabilité plus élevée de sélectionner ceux qui ont la meilleure forme physique.\n",
    "\n",
    "Remarque : utilisez la fonction choices du module random.\n",
    "\n",
    "syntax:  choices(population, weights=None, *, cum_weights=None, k=1)"
   ]
  },
  {
   "cell_type": "code",
   "execution_count": 136,
   "metadata": {},
   "outputs": [],
   "source": [
    "def selection_pair(population: Population, fitness_func: FitnessFunc) -> Population:\n",
    "    return choices(population, weights=list(map(fitness_func,population)),k=2)"
   ]
  },
  {
   "cell_type": "code",
   "execution_count": 142,
   "metadata": {},
   "outputs": [
    {
     "name": "stdout",
     "output_type": "stream",
     "text": [
      "[[2, 0, 3, 0, 1, 4], [0, 4, 0, 0, 3, 1], [4, 5, 1, 4, 5, 3], [2, 4, 4, 4, 5, 2]]\n"
     ]
    },
    {
     "data": {
      "text/plain": [
       "[[4, 5, 1, 4, 5, 3], [2, 4, 4, 4, 5, 2]]"
      ]
     },
     "execution_count": 142,
     "metadata": {},
     "output_type": "execute_result"
    }
   ],
   "source": [
    "print(p)\n",
    "fitness_func = lambda x : sum(x)\n",
    "selection_pair(p,fitness_func )"
   ]
  },
  {
   "cell_type": "markdown",
   "metadata": {},
   "source": [
    "#### 7) Écrivez une fonction qui trie une population en utilisant la fonction de fitness donnée pour évaluer les individus.\n",
    "\n",
    "Remarque : le paramètre maximiser indique l'ordre (croissant / décroissant)\n",
    "\n",
    "utiliser la fonction sorted(iterable, /, *, key=None, reverse=False)\n",
    "\n",
    "key spécifie une fonction à un argument utilisée pour extraire une clé de comparaison de chaque élément dans iterable \n",
    "\n",
    "(for example, key=str.lower)."
   ]
  },
  {
   "cell_type": "code",
   "execution_count": 148,
   "metadata": {},
   "outputs": [],
   "source": [
    "#help(sorted)\n",
    "def sort_population(population: Population, \n",
    "                    fitness_func: FitnessFunc, \n",
    "                    maximize: bool=False) -> Population:\n",
    "    p = sorted(population, key= fitness_func,reverse = maximize)\n",
    "    return p"
   ]
  },
  {
   "cell_type": "code",
   "execution_count": 149,
   "metadata": {},
   "outputs": [
    {
     "name": "stdout",
     "output_type": "stream",
     "text": [
      "[[2, 0, 3, 0, 1, 4], [0, 4, 0, 0, 3, 1], [4, 5, 1, 4, 5, 3], [2, 4, 4, 4, 5, 2]]\n",
      "[[0, 4, 0, 0, 3, 1], [2, 0, 3, 0, 1, 4], [2, 4, 4, 4, 5, 2], [4, 5, 1, 4, 5, 3]]\n"
     ]
    }
   ],
   "source": [
    "print(p)\n",
    "print(sort_population(p,fitness_func))"
   ]
  },
  {
   "cell_type": "markdown",
   "metadata": {},
   "source": [
    "#### 8) Écrivez une fonction qui convertit un chromosome en chaîne.\n",
    "\n",
    "par exemple le chromosome [6, 8, 5, 3, 7, 6, 1, 4] sera converti en 68537614\n",
    "\n",
    "utilisez les fonctions join et map."
   ]
  },
  {
   "cell_type": "code",
   "execution_count": 150,
   "metadata": {},
   "outputs": [],
   "source": [
    "def chromosome_to_string(chromosome: Chromosome) -> str:\n",
    "    return ''.join(map(str,chromosome))"
   ]
  },
  {
   "cell_type": "code",
   "execution_count": 151,
   "metadata": {},
   "outputs": [
    {
     "name": "stdout",
     "output_type": "stream",
     "text": [
      "68537614\n"
     ]
    }
   ],
   "source": [
    "print(chromosome_to_string([6, 8, 5, 3, 7, 6, 1, 4] ))"
   ]
  },
  {
   "cell_type": "markdown",
   "metadata": {},
   "source": [
    "#### 8) Écrivez une fonction qui imprime les statistiques pour une population donnée.\n"
   ]
  },
  {
   "cell_type": "code",
   "execution_count": 154,
   "metadata": {},
   "outputs": [],
   "source": [
    "def print_statistics(population: Population, \n",
    "                     generation_id: int, fitness_func: FitnessFunc):\n",
    "    \n",
    "    print(\"GENERATION %02d\" % generation_id)\n",
    "    print(\"=================\")\n",
    "    print(\"Population: [%s]\" % \", \".join([chromosome_to_string(ch) \n",
    "                                          for ch in population]))\n",
    "    \n",
    "    \n",
    "    fitness =  list(map(fitness_func,population))\n",
    "    \n",
    "    print(\"  Min %s\" % min(fitness))\n",
    "    print(\"  Max %s\" % max(fitness))\n",
    "    print(\"  Avg %s\" % mean(fitness))\n",
    "    print(\"  Std %s\" % stdev(fitness))\n",
    "\n",
    "     "
   ]
  },
  {
   "cell_type": "code",
   "execution_count": 155,
   "metadata": {},
   "outputs": [
    {
     "name": "stdout",
     "output_type": "stream",
     "text": [
      "GENERATION 10\n",
      "=================\n",
      "Population: [203014, 040031, 451453, 244452]\n",
      "  Min 8\n",
      "  Max 22\n",
      "  Avg 15.25\n",
      "  Std 7.274384280931732\n"
     ]
    }
   ],
   "source": [
    "print_statistics(p, 10, fitness_func)"
   ]
  },
  {
   "cell_type": "markdown",
   "metadata": {},
   "source": [
    "#### 8) Écrivez la fonction run_evolution qui implémente l'algorithme génétique.\n",
    "\n",
    "Nous allons implémenter l'algorithme lui-même, le code qui va manipuler les chromosomes. Avant de le faire, cependant, revoyons la description d'un algorithme génétique et définissons les étapes qu'un algorithme génétique suit :\n",
    "\n",
    "1. Créer une population initiale de chromosomes aléatoires pour la première génération de l'algorithme.\n",
    "\n",
    "2. Mesurer la fitness de chaque chromosome dans cette génération de la population. Si l'un dépasse le seuil (fitness_limit), renvoyez-le et l'algorithme se termine.\n",
    "\n",
    "3. Sélectionnez quelques individus à reproduire, avec une probabilité plus élevée de sélectionner ceux qui ont la meilleure fitness.\n",
    "\n",
    "4. Croisez (combinez), avec une certaine probabilité, certains des chromosomes sélectionnés pour créer des enfants qui représentent la population de la prochaine génération.\n",
    "\n",
    "5. Faire muter, généralement avec une faible probabilité, certains de ces chromosomes. La population de la nouvelle génération est maintenant complète, et elle remplace la population de la dernière génération.\n",
    "\n",
    "\n",
    "6. Revenez à l'étape 2 sauf si le nombre maximal de générations (generation_limit) a été atteint. Si tel est le cas, renvoyez le meilleur chromosome trouvé jusqu'à présent."
   ]
  },
  {
   "cell_type": "code",
   "execution_count": null,
   "metadata": {},
   "outputs": [],
   "source": [
    "def run_evolution(populate_func: PopulateFunc, \n",
    "                  fitness_func: FitnessFunc, fitness_limit: int, maximize: bool = False,\n",
    "                  selection_func: SelectionFunc = selection_pair,\n",
    "                  crossover_func: CrossoverFunc = single_point_crossover,\n",
    "                  mutation_func: MutationFunc = mutation, generation_limit: int = 100,\n",
    "                  printer: Optional[PrinterFunc] = None) -> Tuple[Population, int]:  \n",
    "    \n",
    "    # generate a population initial\n",
    "    population= population_func()\n",
    "    # sort and assign the population \n",
    "    population = sort_population(population,fitness_func,maximize)\n",
    "    best_fitness = fitness_func(population[0])\n",
    "    # iterate until the generation_limit\n",
    "     for i in range(generation_limit):\n",
    "\n",
    "        # print the i^th generation if a printer is given\n",
    "        if printer:\n",
    "            printer()\n",
    "        # we break if the fitness_limit is reached, >=fitness_limit when maximization and <=fitness_limit for minimizatio\n",
    "        if (maximize and best_fitness >= fitness_limit) or (not maximize and best_fitness <= fitness_limit):\n",
    "            break\n",
    "        # initialize next_generation by the two first individuals in the sorted population\n",
    "        next_generation= [population[0],population[1]]\n",
    "        #while  |next_generation|  < |population.length|  \n",
    "        while  len(next_generation)  < len(population)\n",
    "            # select  a pair of parents  uning selection_func and fitness_func \n",
    "            a,b = selection_func()\n",
    "            # call crossover_func to get offspring a, b from the parents\n",
    "            x,y = crossover_func(a,b)\n",
    "            # apply  mutation_func on each offspring \n",
    "            x=mutation_func(x)\n",
    "            y=mutation_func(y)\n",
    "            # increment the next generation  \n",
    "            next_generation.append(x)\n",
    "            next_generation.append(y)\n",
    "\n",
    "        # population = next_generation\n",
    "        population = next_generation[0,len(population)]\n",
    "        population = sort_population(population,sort_func,)\n",
    "        # sort and assign the population  \n",
    "        \n",
    "        \n",
    "        \n",
    "    # print_statistics\n",
    " \n",
    "    return population, i"
   ]
  },
  {
   "cell_type": "markdown",
   "metadata": {},
   "source": [
    "### Ignorez ce code utilitaire si vous ne le comprenez pas\n",
    "\n",
    "L'instruction with est utilisée pour envelopper l'exécution d'un bloc avec des méthodes définies par un gestionnaire de contexte (voir la section With Statement Context Managers). Cela permet d'encapsuler les modèles d'utilisation communs try…except…finally pour une réutilisation pratique."
   ]
  },
  {
   "cell_type": "code",
   "execution_count": null,
   "metadata": {},
   "outputs": [],
   "source": [
    "from contextlib import contextmanager\n",
    "import time \n",
    "@contextmanager\n",
    "def timer():\n",
    "    start = time.time()\n",
    "    yield\n",
    "    end = time.time()\n",
    "    print(f\"Elapsed Time: {(end - start)}s\")\n",
    "    \n",
    "# example to understand the utility of the code below,\n",
    "\n",
    "with timer():\n",
    "    x = 0.5\n",
    "    for i in range(1000000):\n",
    "        x = x ** i\n",
    "        "
   ]
  },
  {
   "attachments": {
    "4queens.png": {
     "image/png": "[encoded data removed]"
    }
   },
   "cell_type": "markdown",
   "metadata": {},
   "source": [
    "## N-Queens Problem\n",
    "\n",
    "![4queens.png](attachment:4queens.png)\n"
   ]
  },
  {
   "cell_type": "markdown",
   "metadata": {},
   "source": [
    "- `Vars` est un ensemble de *variables*.\n",
    "\n",
    "  L'idée est que $V_i$ spécifie la colonne de la reine qui est placée dans la ligne $i$.\n",
    "    \n",
    "- `Values` est un ensemble de *valeurs* qui peuvent être assignées\n",
    "  aux variables dans $\\mathtt{Vars}$.\n",
    "  \n",
    "  Dans le problème des n-reines, nous aurons $\\texttt{Valeurs} = \\{1,\\cdots,n\\}$.\n",
    "- `Constraints` est un ensemble de formules issues de la logique du premier ordre.\n",
    "  Chacune de ces formules est appelée une *contrainte* de $\\mathcal{P}$.\n",
    "  Il existe deux types de contraintes différentes.\n",
    "  * Nous avons des contraintes qui expriment que deux reines positionnées dans des rangées différentes ne partagent pas la même\n",
    "    colonne. Pour capturer ces contraintes, nous définissons\n",
    "    $$\\texttt{DifferentCol} := \\bigl\\{ \\texttt{V}_i \\not= \\texttt{V}_j \\bigm| i \\in \\{1,\\cdots,n\\} \\wedge j \\in \\{1,\\cdots,n\\} \\wedge j < i \\bigr\\}.$$\n",
    "    Ici la condition $j < i$ assure que, par exemple, alors que nous avons la contrainte\n",
    "    $\\texttt{V}_2 \\not= \\texttt{V}_1$ nous n'avons pas non plus la contrainte $\\texttt{V}_1 \\not= \\texttt{V}_2$, car cette dernière\n",
    "    contrainte serait redondante si l'ancienne contrainte avait déjà été établie.\n",
    "  * Nous avons des contraintes qui expriment qu'aucune reine positionnée dans des rangées différentes ne partage la même\n",
    "    diagonale. Les reines de la rangée $i$ et de la rangée $j$ partagent la même diagonale si l'équation\n",
    "    $$ |i - j| = |V_i - V_j| $$\n",
    "    tient. L'expression $|i-j|$ est la valeur absolue de la différence des rangs des reines en rang\n",
    "    $i$ et la ligne $j$, tandis que l'expression $|V_i - V_j|$ est la valeur absolue de la différence des\n",
    "    colonnes de ces reines. Pour capturer ces contraintes, nous définissons\n",
    "    $$ \\texttt{DifferentDiag} := \\bigl\\{ |i  - j| \\not= |\\texttt{V}_i - \\texttt{V}_j| \\bigm| i \\in \\{1,\\cdots,n\\} \\wedge j \\in \\{1,\\cdots,n\\} \\wedge j < i \\bigr\\}. $$"
   ]
  },
  {
   "cell_type": "code",
   "execution_count": null,
   "metadata": {},
   "outputs": [],
   "source": [
    "#Constants, experiment parameters\n",
    "NUM_QUEENS = 4\n",
    "POPULATION_SIZE = 6\n",
    "MUTATION_RATE = 0.5\n",
    "GENERATION_LIMIT = 100\n",
    " "
   ]
  },
  {
   "cell_type": "markdown",
   "metadata": {},
   "source": [
    "#### 9) Écrivez la fonction génome qui définit le génome à partir du problème des n-reines.\n",
    "par exemple lorsque NUM_QUEENS=4, (1, 2, 3, 4) est le génome du problème des 4 reines."
   ]
  },
  {
   "cell_type": "code",
   "execution_count": null,
   "metadata": {},
   "outputs": [],
   "source": [
    "def genome_queens()-> Genome:\n",
    "    raise ValueError(\"Not yet implemented!\")"
   ]
  },
  {
   "cell_type": "markdown",
   "metadata": {},
   "source": [
    "#### 10) Écrivez le code de la fonction de fitness du problème des n-reines\n",
    "\n",
    "le score est le nombre total de conflits dans CSP"
   ]
  },
  {
   "cell_type": "code",
   "execution_count": null,
   "metadata": {},
   "outputs": [],
   "source": [
    "def fitness_queens(chromosome: Chromosome)-> int:\n",
    "    score = 0\n",
    "    raise ValueError(\"Not yet implmented!\") \n",
    "    \n",
    "    #iterate over the rows using i as key\n",
    "    \n",
    "        # ci <- chromosome[i]\n",
    "        \n",
    "        #iterate over the rows using j as key\n",
    "        \n",
    "            # cj <- chromosome[j]\n",
    "           \n",
    "            # score++ if every pair of queens are attacking.\n",
    "             \n",
    "    return score     \n",
    "\n",
    "\n",
    "     \n",
    "\n",
    " "
   ]
  },
  {
   "cell_type": "code",
   "execution_count": null,
   "metadata": {},
   "outputs": [],
   "source": [
    "print(fitness_queens([1, 2, 3, 4]))\n",
    "print(fitness_queens([2, 4, 1, 3]))"
   ]
  },
  {
   "cell_type": "markdown",
   "metadata": {},
   "source": [
    "#### 10) Il est temps d'exécuter votre code.\n",
    "\n",
    "RÉSOLUTION DU PROBLEME 4-QUEENS AVEC UN ALGORITHME GÉNÉTIQUE"
   ]
  },
  {
   "cell_type": "code",
   "execution_count": null,
   "metadata": {},
   "outputs": [],
   "source": [
    "print(\"\")\n",
    "print(\"SOLVING 4-QUEENS WITH GENETIC ALGORITHM \")\n",
    "print(\"----------\")\n",
    "NUM_QUEENS = 4\n",
    "POPULATION_SIZE = 6\n",
    "MUTATION_RATE = 0.5\n",
    "GENERATION_LIMIT = 100\n",
    "\n",
    "with timer():\n",
    "    population, best_f, generations = run_evolution(\n",
    "    populate_func=partial(generate_population,\\\n",
    "                          size=POPULATION_SIZE, genome=genome_queens()),\\\n",
    "        fitness_func=fitness_queens,\\\n",
    "        mutation_func=partial(mutation, genome=genome_queens(), probability=MUTATION_RATE),\\\n",
    "        fitness_limit=0, printer=print_statistics, generation_limit=GENERATION_LIMIT)\n",
    "    \n",
    "    print(population[0],  best_f, \"generations\", generations)\n",
    "    print('\\n')"
   ]
  },
  {
   "cell_type": "markdown",
   "metadata": {},
   "source": [
    "#### 11)  8-QUEENS\n",
    "RÉSOLUTION DU PROBLEME 8-QUEENS AVEC UN ALGORITHME GÉNÉTIQUE"
   ]
  },
  {
   "cell_type": "code",
   "execution_count": null,
   "metadata": {},
   "outputs": [],
   "source": [
    "print(\"\")\n",
    "print(\"SOLVING 8-QUEENS WITH GENETIC ALGORITHM \")\n",
    "print(\"----------\")\n",
    "\n",
    "NUM_QUEENS = 8\n",
    "POPULATION_SIZE = 12 \n",
    "GENERATION_LIMIT = 1000\n",
    "\n",
    "with timer():\n",
    "    population, best_f, generations = run_evolution(\n",
    "    populate_func=partial(generate_population,\\\n",
    "                          size=POPULATION_SIZE, genome=genome_queens()),\\\n",
    "        fitness_func=fitness_queens,\\\n",
    "        mutation_func=partial(mutation, genome=genome_queens(), probability=MUTATION_RATE),\\\n",
    "        fitness_limit=0, printer=print_statistics, generation_limit=GENERATION_LIMIT)\n",
    "    \n",
    "    print(population[0],  best_f, \"generations\", generations)\n",
    "    print('\\n')"
   ]
  },
  {
   "cell_type": "code",
   "execution_count": null,
   "metadata": {},
   "outputs": [],
   "source": []
  }
 ],
 "metadata": {
  "kernelspec": {
   "display_name": "Python 3 (ipykernel)",
   "language": "python",
   "name": "python3"
  },
  "language_info": {
   "codemirror_mode": {
    "name": "ipython",
    "version": 3
   },
   "file_extension": ".py",
   "mimetype": "text/x-python",
   "name": "python",
   "nbconvert_exporter": "python",
   "pygments_lexer": "ipython3",
   "version": "3.10.7"
  }
 },
 "nbformat": 4,
 "nbformat_minor": 2
}
