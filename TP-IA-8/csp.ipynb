{
 "cells": [
  {
   "cell_type": "markdown",
   "metadata": {
    "scrolled": false
   },
   "source": [
    "## Unité 6: Problèmes de satisfaction des contraintes\n",
    "\n",
    "\n",
    "Un CSP ou un réseau de contraintes est un triplet (X, D, C) où\n",
    "\n",
    "X ={X1,.., Xn}  est un ensemble fini de n variables\n",
    "\n",
    "D ={D1,.., Dn}, domaines finis où Xi ∈ Di ;\n",
    "\n",
    "C ={C1,.., Cm}, m contraintes sur les variables où chacune définit un prédicat, qui est une relation sur un sous-ensemble particulier de variables (X). \n",
    "\n",
    "Une contrainte sur un ensemble de variables restreint les valeurs que peuvent prendre simultanément ses variables. Commençons par explorer la classe de base générique Constraint que nous utiliserons pour modéliser les contraintes. C'est une classe abstraite qui dispose d'une méthode abstraite **satisfied**\n"
   ]
  },
  {
   "cell_type": "code",
   "execution_count": 2,
   "metadata": {},
   "outputs": [],
   "source": [
    "\n",
    "from typing import Generic, TypeVar, Dict, List, Optional, Any\n",
    "from abc import ABC, abstractmethod\n",
    "import copy\n",
    "\n",
    "V = TypeVar('V')  # variable type\n",
    "D = TypeVar('D')  # domain type\n",
    "\n",
    "Unassigned = \"Unassigned_Var\"\n",
    "\n",
    "\n",
    "\n",
    "# Base class for all constraints\n",
    "class Constraint(Generic[V, D], ABC):\n",
    "    # The variables that the constraint is between\n",
    "    def __init__(self, variables: List[V]) -> None:\n",
    "        self.variables = variables\n",
    "    \n",
    "\n",
    "    # Must be overridden by subclasses\n",
    "    @abstractmethod\n",
    "    def satisfied(self, assignment: Dict[V, D]) -> bool:\n",
    "        ...\n",
    "\n"
   ]
  },
  {
   "cell_type": "markdown",
   "metadata": {},
   "source": [
    "Une classe dérivée de la classe de base Contraint qui enveloppe une fonction définissant la logique d'une contrainte donnée peut être ecrire comme suit:"
   ]
  },
  {
   "cell_type": "code",
   "execution_count": 4,
   "metadata": {},
   "outputs": [],
   "source": [
    "\n",
    "class FunctionConstraint(Constraint[V, D]):\n",
    "    \"\"\"\n",
    "    Constraint which wraps a function defining the constraint logic\n",
    "\n",
    "    Examples:\n",
    "\n",
    "    >>> fc1 = FunctionConstraint(lambda x, y: x == y, [\"a\", \"b\"])\n",
    "    >>> fc1.satisfied({'a': 1, 'b': 1})\n",
    "    True\n",
    "    >>> fc1.satisfied({'a': 1, 'b': 2})\n",
    "    False\n",
    "    >>> fc2 = FunctionConstraint(lambda x, y, z : x + y == z, [1, 2, 3])\n",
    "    >>> fc2.satisfied({1: 1, 2: 2, 3: 3})\n",
    "    True\n",
    "    >>> fc2.satisfied({1: 5, 2: 1, 3: 3})\n",
    "    False\n",
    "    \"\"\"\n",
    "\n",
    "    def __init__(self, func, variables: List[V]) -> None:\n",
    "        \"\"\"\n",
    "        @param func: Function wrapped and queried for constraint logic\n",
    "        @type  func: callable object\n",
    "        @param variables: list of variables on which this constraint applies\n",
    "        \"\"\"\n",
    "        super().__init__(variables)\n",
    "        self._func = func\n",
    "\n",
    "    def satisfied(self, assignments: Dict[V, D]) -> bool:\n",
    "        parms = [assignments.get(x, Unassigned) for x in self.variables]\n",
    "        missing = parms.count(Unassigned)\n",
    "        if missing:\n",
    "            return True\n",
    "        return self._func(*parms)\n",
    "\n",
    "    def __repr__(self):\n",
    "        return 'FunctionConstraint on ' + str(self.variables) + ' defined by \\n' + str(self._func )\n"
   ]
  },
  {
   "cell_type": "markdown",
   "metadata": {},
   "source": [
    "#### Exemples d'utilisation de la classe FunctionConstraint "
   ]
  },
  {
   "cell_type": "code",
   "execution_count": 5,
   "metadata": {},
   "outputs": [
    {
     "name": "stdout",
     "output_type": "stream",
     "text": [
      "is XeqY('a','b') satisfied on {'a': 1, 'b': 2} ? =>  False\n"
     ]
    }
   ],
   "source": [
    "def XeqY(a,b) : \n",
    "    return FunctionConstraint(lambda x, y: x==y, [a, b])\n",
    "print(\"is XeqY('a','b') satisfied on {'a': 1, 'b': 2} ? => \", XeqY('a','b').satisfied({'a': 1, 'b': 2}))\n",
    " "
   ]
  },
  {
   "cell_type": "code",
   "execution_count": 6,
   "metadata": {},
   "outputs": [
    {
     "name": "stdout",
     "output_type": "stream",
     "text": [
      "is XplusYeqZ(1, 2, 3) is satisfied on {1:1,2:2,3:3}=  True\n"
     ]
    }
   ],
   "source": [
    "def XplusYeqZ(a, b, c): \n",
    "    return FunctionConstraint(lambda x, y, z : x + y == z, [a, b, c])\n",
    "print(\"is XplusYeqZ(1, 2, 3) is satisfied on {1:1,2:2,3:3}= \", XplusYeqZ(1, 2, 3).satisfied({1: 1, 2: 2, 3: 3}))"
   ]
  },
  {
   "cell_type": "markdown",
   "metadata": {},
   "source": [
    "### Exercice 1\n",
    "Déclarer et tester la contrainte XneqY\n"
   ]
  },
  {
   "cell_type": "code",
   "execution_count": 8,
   "metadata": {},
   "outputs": [
    {
     "name": "stdout",
     "output_type": "stream",
     "text": [
      "is XneqY('a','b') satisfied on {'a': 1, 'b': 2} ? =>  True\n"
     ]
    }
   ],
   "source": [
    "def XneqY(a,b) : \n",
    "    return FunctionConstraint(lambda x, y: x!=y, [a, b])\n",
    "print(\"is XneqY('a','b') satisfied on {'a': 1, 'b': 2} ? => \", XneqY('a','b').satisfied({'a': 1, 'b': 2}))"
   ]
  },
  {
   "cell_type": "code",
   "execution_count": 9,
   "metadata": {},
   "outputs": [],
   "source": [
    "def absXminYneqConst(a,b,c):\n",
    "    return FunctionConstraint(lambda x, y, z : abs(x - y) == z, [a, b, c])"
   ]
  },
  {
   "cell_type": "code",
   "execution_count": 11,
   "metadata": {},
   "outputs": [
    {
     "name": "stdout",
     "output_type": "stream",
     "text": [
      "is XplusYeqZ(1, 2, 1) is satisfied on {1:1,2:2,3:3}=  True\n"
     ]
    }
   ],
   "source": [
    "print(\"is XplusYeqZ(1, 2, 1) is satisfied on {1:1,2:2,3:3}= \", absXminYneqConst(1, 2, 1).satisfied({1: 1, 2: 2}))"
   ]
  },
  {
   "cell_type": "markdown",
   "metadata": {},
   "source": [
    "#### La contrainte tous différents \n",
    "c'est une contrainte spécialisée qui oblige chaque variable de décision dans un groupe donné à prendre une valeur différente de la valeur de chaque autre variable de décision dans ce groupe."
   ]
  },
  {
   "cell_type": "code",
   "execution_count": 13,
   "metadata": {},
   "outputs": [],
   "source": [
    "\n",
    "class AllDifferentConstraint(Constraint[V, D]):\n",
    "    \"\"\"\n",
    "    Constraint enforcing that values of all given variables are different\n",
    "    Example:\n",
    "\n",
    "    >>>alldiff = AllDifferentConstraint([\"a\", \"b\", \"c\"])\n",
    "    >>>alldiff.satisfied({1: 1, 2: 2, 3: 3})\n",
    "    True\n",
    "    >>> fc2.satisfied({1: 5, 2: 1, 3: 3})\n",
    "    False\n",
    "    \"\"\"\n",
    "\n",
    "    def __init__(self, variables: List[V]):\n",
    "        super().__init__(variables)\n",
    "\n",
    "    def satisfied(self, assignment: Dict[V, D]) -> bool:\n",
    "        assigned = [x for x in self.variables if x in assignment.keys()]\n",
    "        for i in range(len(assigned) - 1):\n",
    "            for j in range(i + 1, len(assigned)):\n",
    "                if assignment[assigned[i]] == assignment[assigned[j]]:\n",
    "                    return False\n",
    "        return True\n",
    "\n",
    "    def __repr__(self):\n",
    "        return 'AllDiff(' + str(self.variables) + ')'"
   ]
  },
  {
   "cell_type": "markdown",
   "metadata": {},
   "source": [
    "### Exercice 2\n",
    "Tester la contrainte AllDiff. Utiliser l'exemple donné dans la doc du class AllDifferentConstraint."
   ]
  },
  {
   "cell_type": "code",
   "execution_count": 19,
   "metadata": {},
   "outputs": [
    {
     "data": {
      "text/plain": [
       "False"
      ]
     },
     "execution_count": 19,
     "metadata": {},
     "output_type": "execute_result"
    }
   ],
   "source": [
    "alldiff = AllDifferentConstraint([\"a\", \"b\", \"c\"])\n",
    "alldiff.satisfied({'a': 1, 'b': 1, 'c': 3})"
   ]
  },
  {
   "cell_type": "markdown",
   "metadata": {},
   "source": [
    "#### Modèle CSP\n",
    "La première étape de la résolution d'un problème de satisfaction de contraintes consiste à modéliser le problème. Le modèle est composé de variables de décision et de contraintes. La classe CSP suivante vous permet de creer des modèles CSP.\n",
    "\n",
    "domains: Dict[V, List[D]] indiquer que les domaines sont stockés dans un dictionnaire de la forme {var:liste-de-domaine} où liste-de-domaine est une pile de domaines de var dont chaque element di de la pile correspond au domaine de var au niveau i de l'arbre de recherche. curr_domains(var) est la fonction qui retourne le domaine courant de var. "
   ]
  },
  {
   "cell_type": "code",
   "execution_count": 21,
   "metadata": {},
   "outputs": [],
   "source": [
    "# A constraint satisfaction problem consists of variables of type V\n",
    "# that have ranges of values known as domains of type D and constraints\n",
    "# that determine whether a particular variable's domain selection is valid\n",
    "class CSP(Generic[V, D]):\n",
    "    def __init__(self, variables: List[V] = None, domains: Dict[V, List[D]] = None) -> None:\n",
    "        self.variables: List[V] = variables  # variables to be constrained\n",
    "        self.domains: Dict[V, List[List[D]]] = {}  # domain of each variable\n",
    "        if domains:\n",
    "            for v in domains.keys():\n",
    "                self.domains[v] = [domains.get(v)]\n",
    "        self.constraints: Dict[V, List[Constraint[V, D]]] = {}\n",
    "        if variables:\n",
    "            for variable in self.variables:\n",
    "                self.constraints[variable] = []\n",
    "                if variable not in self.domains:\n",
    "                    raise LookupError(\"Every variable should have a domain assigned to it.\")\n",
    "\n",
    "    def add_variable(self, var: V, domain: D):\n",
    "        if var in self.variables:\n",
    "            msg = \"Tried to insert duplicated variable %s\" % repr(var)\n",
    "            raise LookupError(msg)\n",
    "        if not domain:\n",
    "            raise ValueError(\"Domain is empty\")\n",
    "        self.variables.append(var)\n",
    "        self.domains[var] = [domain]\n",
    "\n",
    "    def add_constraint(self, constraint: Constraint[V, D]) -> None:\n",
    "        for variable in constraint.variables:\n",
    "            if variable not in self.variables:\n",
    "                raise LookupError(\"Variable in constraint not in CSP\")\n",
    "            else:\n",
    "                self.constraints[variable].append(constraint)\n",
    "\n",
    "    # Check if the value assignment is consistent by checking all constraints\n",
    "    # for the given variable against it\n",
    "    def consistent(self, variable: V, assignment: Dict[V, D]) -> bool:\n",
    "        for constraint in self.constraints[variable]:\n",
    "            if not constraint.satisfied(assignment):\n",
    "                return False\n",
    "        return True\n",
    "    \n",
    "    def curr_domains(self, v):\n",
    "        return self.domains[v][-1]\n",
    "\n",
    "    def __repr__(self):\n",
    "        rep = ['Variables:\\n']\n",
    "        the_constraints = []\n",
    "        for v in self.variables:\n",
    "            rep.append(str(v) + ' : ' + str(self.curr_domains(v)) + '\\n')\n",
    "            vc = self.constraints.get(v, [])\n",
    "            the_constraints.extend([c for c in vc if c not in the_constraints])\n",
    "\n",
    "        rep.append('Constraints:\\n')\n",
    "        for c in the_constraints:\n",
    "            rep.append(repr(c) + '\\n')\n",
    "        return ''.join(rep)\n",
    "\n",
    "    \n"
   ]
  },
  {
   "cell_type": "markdown",
   "metadata": {},
   "source": [
    "#### Teste de la classe Problem"
   ]
  },
  {
   "cell_type": "code",
   "execution_count": 22,
   "metadata": {},
   "outputs": [
    {
     "name": "stdout",
     "output_type": "stream",
     "text": [
      "Variables:\n",
      "a : [0, 1]\n",
      "b : [0, 1]\n",
      "c : [0, 1]\n",
      "Constraints:\n",
      "FunctionConstraint on ['a', 'b'] defined by \n",
      "<function XeqY.<locals>.<lambda> at 0x0000023629A777F0>\n",
      "FunctionConstraint on ['b', 'c'] defined by \n",
      "<function XneqY.<locals>.<lambda> at 0x0000023629A75900>\n",
      "\n",
      "True\n",
      "True\n",
      "False\n",
      "True\n",
      "the solution is:  {'a': 0, 'b': 0, 'c': 1}\n"
     ]
    }
   ],
   "source": [
    " \n",
    "p = CSP(['a', 'b', 'c'], {'a': [0, 1], 'b': [0, 1], 'c': [0, 1]})\n",
    "p.add_constraint(XeqY('a', 'b'))# we add the constraint a = b\n",
    "p.add_constraint(XneqY('b', 'c'))# we add the constraint b != b\n",
    "print(p)\n",
    "print(p.consistent('a', {'a':0} ))\n",
    "print(p.consistent('b', {'a':0, 'b':0} ))\n",
    "print(p.consistent('c', {'a':0, 'b':0, 'c':0} ))\n",
    "print(p.consistent('c', {'a':0, 'b':0, 'c':1} ))\n",
    "print(\"the solution is: \", {'a':0, 'b':0, 'c':1} )"
   ]
  },
  {
   "cell_type": "markdown",
   "metadata": {},
   "source": [
    "#  Le puzzle crypto-arithmétique (The Crypto-Arithmetic Puzzle)"
   ]
  },
  {
   "cell_type": "markdown",
   "metadata": {},
   "source": [
    "Dans cette partie, nous formulons le puzzle crypto-arithmétique présenté dans l'image ci-dessous comme un problème de satisfaction de contraintes.\n",
    "<img src=\"send-more-money.png\">"
   ]
  },
  {
   "cell_type": "markdown",
   "metadata": {},
   "source": [
    "L'idée est que les lettres\n",
    "\"$\\texttt{S}$\", \"$\\texttt{E}$\", \"$\\texttt{N}$\", \"$\\texttt{D}$\", \"$\\texttt{M}$\", \"$\\texttt{O}$\", \"$\\texttt{R}$\", \"$\\texttt{Y}$\" apparaissant dans ce puzzle\n",
    "sont interprétées comme des variables s'étendant sur l'ensemble des chiffres décimaux, c'est-à-dire que ces variables peuvent prendre des valeurs dans\n",
    "l'ensemble $\\{0,1,2,3,4,5,6,7,8,9\\}$. Ensuite, la chaîne \"$\\texttt{SEND}$\" est interprétée comme un nombre décimal,\n",
    "c'est-à-dire qu'il est interprété comme le nombre\n",
    "$$\\texttt{S} \\cdot 10^3 + \\texttt{E} \\cdot 10^2 + \\texttt{N} \\cdot 10^1 + \\texttt{D} \\cdot 10^0.$$\n",
    "Les chaînes \"$\\texttt{MORE}$ et \"$\\texttt{MONEY}$\" sont interprétées de la même manière. Pour résoudre le problème\n",
    "intéressant, l'hypothèse est que *différentes variables ont différentes* valeurs.\n",
    "De plus, les chiffres au début d'un nombre doivent être *différents de $0$*. Ensuite, il faut trouver des valeurs telles que la formule\n",
    "$$ (\\texttt{S} \\cdot 10^3 + \\texttt{E} \\cdot 10^2 + \\texttt{N} \\cdot 10 + \\texttt{D})\n",
    "  + (\\texttt{M} \\cdot 10^3 + \\texttt{O} \\cdot 10^2 + \\texttt{R} \\cdot 10 + \\texttt{E})\n",
    "  = \\texttt{M} \\cdot 10^4 + \\texttt{O} \\cdot 10^3 + \\texttt{N} \\cdot 10^2 + \\texttt{E} \\cdot 10 + \\texttt{Y}.\n",
    "$$\n",
    "est vrai. \n",
    "\n",
    "\n",
    "Ajouter une ligne pour corriger la methode send_more_mony() suivate:\n"
   ]
  },
  {
   "cell_type": "code",
   "execution_count": 23,
   "metadata": {},
   "outputs": [],
   "source": [
    "def send_more_mony():\n",
    "    \"\"\" SEND+MORE=MONEY is a cryptarithmetic puzzle, meaning that it is about finding\n",
    "    digits that replace letters to make a mathematical statement true.\n",
    "    Each letter in the problem represents one digit (0–9).\n",
    "    No two letters can represent the same digit. When a letter repeats,\n",
    "    it means a digit repeats in the solution.\n",
    "    To solve this puzzle by hand, it helps to line up the words.\n",
    "         SEND\n",
    "        +MORE\n",
    "       =MONEY\"\"\"\n",
    "    variables: List[str] = list(set('SENDMOREMONEY'))\n",
    "    domains: Dict[str, List[int]] = {}\n",
    "    for letter in variables:\n",
    "        domains[letter] = [0, 1, 2, 3, 4, 5, 6, 7, 8, 9]\n",
    "\n",
    "    send_more_mony_problem: CSP[str, int] = CSP(variables, domains)\n",
    "    func = lambda s, e, n, d, m, o, r, y: \\\n",
    "        s * 1000 + e * 100 + n * 10 + d \\\n",
    "        + m * 1000 + o * 100 + r * 10 + e \\\n",
    "        == m * 10000 + o * 1000 + n * 100 + e * 10 + y\n",
    "    send_more_mony_problem.add_constraint(FunctionConstraint(func, variables))\n",
    "    neq0 = lambda x: x != 0\n",
    "    send_more_mony_problem.add_constraint(FunctionConstraint(neq0, ['S']))\n",
    "    send_more_mony_problem.add_constraint(FunctionConstraint(neq0, ['M']))\n",
    "    return send_more_mony_problem"
   ]
  },
  {
   "cell_type": "code",
   "execution_count": null,
   "metadata": {},
   "outputs": [],
   "source": []
  },
  {
   "cell_type": "markdown",
   "metadata": {},
   "source": [
    "\n",
    "Discutons la contrainte:\n",
    "\n",
    "$$ (\\texttt{S} \\cdot 10^3 + \\texttt{E} \\cdot 10^2 + \\texttt{N} \\cdot 10 + \\texttt{D})\n",
    "  + (\\texttt{M} \\cdot 10^3 + \\texttt{O} \\cdot 10^2 + \\texttt{R} \\cdot 10 + \\texttt{E})\n",
    "  = \\texttt{M} \\cdot 10^4 + \\texttt{O} \\cdot 10^3 + \\texttt{N} \\cdot 10^2 + \\texttt{E} \\cdot 10 + \\texttt{Y}.\n",
    "$$\n",
    "\n",
    "Le problème avec cette contrainte est qu'elle implique beaucoup trop de variables. Comme cette contrainte ne peut être\n",
    "\n",
    "vérifiée lorsque toutes les variables ont des valeurs qui leur sont assignées, la recherche de retour en arrière serait essentiellement\n",
    "se résument à une simple recherche par force brute. Nous aurions 8 variables et nous devions donc tester $10^{8}$\n",
    "affectations possibles. Afin de faire mieux, nous devons effectuer l'addition dans la figure ci-dessus\n",
    "colonne par colonne, comme on l'enseigne à l'école primaire. Pour pouvoir faire cela, nous devons introduire des <em>chiffres résidus</em> \"$\\texttt{C1}$\", \"$\\texttt{C2}$\", \"$\\texttt{C3}$\" où $\\texttt{C1}$ est le résidu produit en ajoutant\n",
    "$\\texttt{D}$ et $\\texttt{E}$, $\\texttt{C2}$ est le résidu produit en ajoutant\n",
    "$\\texttt{N}$, $\\texttt{R}$ et $\\texttt{C1}$, et $\\texttt{C3}$ est le résidu produit en ajoutant\n",
    "$\\texttt{E}$, $\\texttt{O}$ et $\\texttt{C2}$.\n",
    " \n",
    "\n",
    "                     (D + E)      % 10 == Y,  (D + E)      // 10 == C1,\n",
    "                     (N + R + C1) % 10 == E,  (N + R + C1) // 10 == C2,\n",
    "                     (E + O + C2) % 10 == N,  (E + O + C2) // 10 == C3,\n",
    "                     (S + M + C3) % 10 == O,  (S + M + C3) // 10 == M\n",
    "                     \n",
    "réecrire le modéle CSP de ce problème en fonction de ces dernières contraintes."
   ]
  },
  {
   "cell_type": "code",
   "execution_count": 24,
   "metadata": {},
   "outputs": [
    {
     "name": "stdout",
     "output_type": "stream",
     "text": [
      "Variables:\n",
      "S : [0, 1, 2, 3, 4, 5, 6, 7, 8, 9]\n",
      "E : [0, 1, 2, 3, 4, 5, 6, 7, 8, 9]\n",
      "N : [0, 1, 2, 3, 4, 5, 6, 7, 8, 9]\n",
      "D : [0, 1, 2, 3, 4, 5, 6, 7, 8, 9]\n",
      "M : [0, 1, 2, 3, 4, 5, 6, 7, 8, 9]\n",
      "O : [0, 1, 2, 3, 4, 5, 6, 7, 8, 9]\n",
      "R : [0, 1, 2, 3, 4, 5, 6, 7, 8, 9]\n",
      "Y : [0, 1, 2, 3, 4, 5, 6, 7, 8, 9]\n",
      "C1 : [0, 1, 2, 3, 4, 5, 6, 7, 8, 9]\n",
      "C2 : [0, 1, 2, 3, 4, 5, 6, 7, 8, 9]\n",
      "C3 : [0, 1, 2, 3, 4, 5, 6, 7, 8, 9]\n",
      "Constraints:\n",
      "AllDiff(['S', 'E', 'N', 'D', 'M', 'O', 'R', 'Y'])\n",
      "FunctionConstraint on ['S', 'M', 'C3', 'O'] defined by \n",
      "<function sum_mod10_eqX.<locals>.sum_mod10_eqX_func at 0x0000023629B04E50>\n",
      "FunctionConstraint on ['S', 'M', 'C3', 'M'] defined by \n",
      "<function sum_div10_eqX.<locals>.sum_div10_eqX_func at 0x0000023629B04EE0>\n",
      "FunctionConstraint on S defined by \n",
      "<function crypto_csp.<locals>.<lambda> at 0x0000023629B04F70>\n",
      "FunctionConstraint on ['D', 'E', 'Y'] defined by \n",
      "<function sum_mod10_eqX.<locals>.sum_mod10_eqX_func at 0x0000023629B04B80>\n",
      "FunctionConstraint on ['D', 'E', 'C1'] defined by \n",
      "<function sum_div10_eqX.<locals>.sum_div10_eqX_func at 0x0000023629B04310>\n",
      "FunctionConstraint on ['N', 'R', 'C1', 'E'] defined by \n",
      "<function sum_mod10_eqX.<locals>.sum_mod10_eqX_func at 0x0000023629B04C10>\n",
      "FunctionConstraint on ['E', 'O', 'C2', 'N'] defined by \n",
      "<function sum_mod10_eqX.<locals>.sum_mod10_eqX_func at 0x0000023629B04D30>\n",
      "FunctionConstraint on ['E', 'O', 'C2', 'C3'] defined by \n",
      "<function sum_div10_eqX.<locals>.sum_div10_eqX_func at 0x0000023629B04DC0>\n",
      "FunctionConstraint on ['N', 'R', 'C1', 'C2'] defined by \n",
      "<function sum_div10_eqX.<locals>.sum_div10_eqX_func at 0x0000023629B04CA0>\n",
      "FunctionConstraint on M defined by \n",
      "<function crypto_csp.<locals>.<lambda> at 0x0000023629B05000>\n",
      "\n"
     ]
    }
   ],
   "source": [
    "def sum_mod10_eqX(vars):\n",
    "    def sum_mod10_eqX_func(*args):\n",
    "        l = list(args)\n",
    "        return sum(l[:1])%10 == l[-1]\n",
    "    return FunctionConstraint(sum_mod10_eqX_func,  vars)\n",
    "\n",
    "\n",
    "def sum_div10_eqX(vars):\n",
    "    def sum_div10_eqX_func(*args):\n",
    "        l = list(args)\n",
    "        return sum(l[:1])//10 == l[-1]\n",
    "    return FunctionConstraint(sum_div10_eqX_func,  vars)\n",
    "\n",
    "\n",
    "def crypto_csp():\n",
    "    S, E, N, D, M, O, R, Y = 'S', 'E', 'N', 'D', 'M', 'O', 'R', 'Y'\n",
    "    C1, C2, C3 = 'C1', 'C2', 'C3'\n",
    "    \n",
    "    digits       = [S, E, N, D, M, O, R, Y  ] \n",
    "    variables    = digits + [ C1, C2, C3]\n",
    "    domain       = [ 0, 1, 2, 3, 4, 5, 6, 7, 8, 9 ]\n",
    "    domains = {v:domain for v in variables}\n",
    "    csp: CSP[str, int] = CSP(variables, domains)\n",
    "    \n",
    "    alldiff  = AllDifferentConstraint(digits)\n",
    "    csp.add_constraint(alldiff)\n",
    "    \n",
    "    csp.add_constraint(sum_mod10_eqX([D, E, Y]))\n",
    "    csp.add_constraint(sum_div10_eqX([D, E, C1]))\n",
    "    \n",
    "    csp.add_constraint(sum_mod10_eqX([N ,  R , C1, E]))\n",
    "    csp.add_constraint(sum_div10_eqX([N ,  R , C1, C2]))\n",
    "    \n",
    "    \n",
    "    csp.add_constraint(sum_mod10_eqX([E , O , C2, N]))\n",
    "    csp.add_constraint(sum_div10_eqX([E , O , C2, C3]))\n",
    "    \n",
    "    csp.add_constraint(sum_mod10_eqX([S ,M, C3, O]))\n",
    "    csp.add_constraint(sum_div10_eqX([S ,M, C3, M]))\n",
    "     \n",
    "    csp.add_constraint(FunctionConstraint(lambda x : x != 0, S))\n",
    "    csp.add_constraint(FunctionConstraint(lambda x : x != 0, M))\n",
    "\n",
    " \n",
    "    return csp\n",
    "\n",
    "print(crypto_csp())"
   ]
  },
  {
   "cell_type": "markdown",
   "metadata": {},
   "source": [
    "#### N-QUEENS\n",
    "\n",
    "Le casse-tête des N-reines consiste à placer N reines d'échecs sur un échiquier NxN de manière à ce que deux reines ne se menacent pas l'une l'autre. Ici N est un nombre naturel. Comme le problème de coloration de graphe, NQueens est également implémenté dans le module csp. La classe NQueensCSP hérite de la classe CSP. Il apporte quelques modifications aux méthodes pour s'adapter à ce problème particulier. Les reines sont supposées être placées une par colonne, de gauche à droite. Cela signifie que la position (x, y) représente (var, val) dans le CSP. La contrainte qui doit être transmise au CSP est définie dans la fonction queens_constraint. La contrainte est satisfaite (vrai) si A, B sont vraiment la même variable, ou s'ils ne sont pas sur la même ligne, sur une diagonale décendante ou une diagonale accendante."
   ]
  },
  {
   "cell_type": "code",
   "execution_count": 26,
   "metadata": {},
   "outputs": [],
   "source": [
    "def queens(N):\n",
    "    class queens_constraint(Constraint[int, int]):\n",
    "        def __init__(self, columns: List[int]) -> None:\n",
    "            super().__init__(columns)\n",
    "            self.columns: List[int] = columns\n",
    "\n",
    "        def satisfied(self, assignment: Dict[int, int]) -> bool:\n",
    "            # q1c = queen 1 column, q1r = queen 1 row\n",
    "            for q1c, q1r in assignment.items():\n",
    "                # q2c = queen 2 column\n",
    "                for q2c in range(q1c + 1, len(self.columns) + 1):\n",
    "                    if q2c in assignment:\n",
    "                        q2r: int = assignment[q2c] # q2r = queen 2 row\n",
    "                        if q1r == q2r: # same row?\n",
    "                            return False\n",
    "                        if abs(q1r - q2r) == abs(q1c - q2c): # same diagonal?\n",
    "                            return False\n",
    "            return True # no conflict\n",
    "        \n",
    "        \n",
    "    columns: List[int] = list(range(1, N+1))\n",
    "    rows: Dict[int, List[int]] = {}\n",
    "    for column in columns:\n",
    "        rows[column] = list(range(1, N+1))\n",
    "    csp: CSP[int, int] = CSP(columns, rows)  \n",
    "    csp.add_constraint(queens_constraint(columns)) \n",
    "    return csp "
   ]
  },
  {
   "cell_type": "code",
   "execution_count": null,
   "metadata": {},
   "outputs": [],
   "source": []
  },
  {
   "cell_type": "code",
   "execution_count": 27,
   "metadata": {},
   "outputs": [],
   "source": [
    "import  numpy as np\n",
    "from PIL import Image\n",
    "%matplotlib inline\n",
    "import matplotlib.pyplot as plt\n",
    "# Function to plot NQueensCSP from https://github.com/aimacode/aima-python/blob/master/notebook.py\n",
    "def plot_queens(solution):\n",
    "    n = len(solution) \n",
    "    board = np.array([2 * int((i + j) % 2) for j in range(n) for i in range(n)]).reshape((n, n))\n",
    "    im = Image.open('queen_s.png')\n",
    "    height = im.size[1]\n",
    "    im = np.array(im).astype(np.float) / 255\n",
    "    fig = plt.figure(figsize=(7, 7))\n",
    "    ax = fig.add_subplot(111)\n",
    "    ax.set_title('{} Queens'.format(n))\n",
    "    plt.imshow(board, cmap='binary', interpolation='nearest')\n",
    "    # NQueensCSP gives a solution as a dictionary\n",
    "    for (k, v) in solution.items():\n",
    "        newax = fig.add_axes([0.064 + ((k-1) * 0.112), 0.062 + ((n-1 - (v-1)) * 0.112), 0.1, 0.1], zorder=1)\n",
    "        newax.imshow(im)\n",
    "        newax.axis('off')\n",
    "        # NQueensProblem gives a solution as a list\n",
    "    fig.tight_layout()\n",
    "    plt.show()                "
   ]
  },
  {
   "cell_type": "markdown",
   "metadata": {},
   "source": [
    "#### Voisins d'une variable\n",
    "Dans un CSP, les voisins d'une variable x sont l'ensemble constitué des variables partageant une contrainte avec x."
   ]
  },
  {
   "cell_type": "code",
   "execution_count": 28,
   "metadata": {},
   "outputs": [],
   "source": [
    "def vars_neighbors(csp: CSP, var:V):\n",
    "    neighbors = set()\n",
    "    if csp.constraints.get(var):\n",
    "        for c in csp.constraints[var]:\n",
    "            n = copy.deepcopy(c.variables)\n",
    "            n.remove(var)\n",
    "            neighbors.update(n)\n",
    "    return neighbors"
   ]
  },
  {
   "cell_type": "code",
   "execution_count": 29,
   "metadata": {
    "scrolled": true
   },
   "outputs": [
    {
     "name": "stdout",
     "output_type": "stream",
     "text": [
      "neighbors of a:  {'b'}\n",
      "neighbors of b:  {'c', 'a'}\n"
     ]
    }
   ],
   "source": [
    "print('neighbors of a: ', vars_neighbors(p, 'a'))\n",
    "print('neighbors of b: ', vars_neighbors(p, 'b'))"
   ]
  },
  {
   "cell_type": "markdown",
   "metadata": {},
   "source": [
    "#### Opérations auxilières utiler lors de la résolution\n",
    "Lors de la résolution d'un CSP, les opérations de base sont utilisées :\n",
    "Affectez une variable pour étendre l'affectation actuelle. Annulez l'attribution d'une variable lors de la restauration. Maintenir les champs de variables."
   ]
  },
  {
   "cell_type": "code",
   "execution_count": 30,
   "metadata": {},
   "outputs": [],
   "source": [
    "def assign(csp, var, val, assignment):\n",
    "    \"\"\"Add {var: val} to assignment; Discard the old value if any.\n",
    "    Do bookkeeping for the number of assignments (nassigns).\"\"\"\n",
    "    if not hasattr(csp, 'nb_assigns'):\n",
    "        csp.nb_assigns = 0\n",
    "    csp.nb_assigns += 1\n",
    "    assignment[var] = val\n",
    "    csp.curr_domains(var).clear()\n",
    "    csp.curr_domains(var).append(val)\n",
    "\n",
    "\n",
    "def unassign(csp, var, assignment):\n",
    "    \"\"\"Remove {var: val} from assignment; that is backtrack.\n",
    "    DO NOT call this if you are changing a variable to a new value;\n",
    "    just call assign for that.\"\"\"\n",
    "    if var in assignment:\n",
    "        del assignment[var]\n",
    "\n",
    "def before_exdends_assignment (csp):\n",
    "    \"\"\" Do bookkeeping for current domains \"\"\"\n",
    "    for v in csp.domains.keys():\n",
    "        csp.domains[v].append(csp.curr_domains(v)[:])\n",
    "\n",
    "\n",
    "def before_backtarck(csp, var, assignment):\n",
    "    # Reset current domains to be the previous domains\n",
    "    for v in csp.domains.keys():\n",
    "        del csp.domains[v][-1]\n",
    "    if var in assignment.keys():\n",
    "        del assignment[var]"
   ]
  },
  {
   "cell_type": "markdown",
   "metadata": {},
   "source": [
    "#### Algorithme de résolution de CSP backtracking_search recursive"
   ]
  },
  {
   "cell_type": "code",
   "execution_count": 31,
   "metadata": {},
   "outputs": [],
   "source": [
    "def backtracking_search(csp: CSP, assignment=None) -> Optional[Dict[V, D]]:\n",
    "    # assignment is complete if every variable is assigned (our base case)\n",
    "    if assignment is None:\n",
    "        assignment = {}\n",
    "    if len(assignment) == len(csp.variables):\n",
    "        return assignment\n",
    "        # get all variables in the CSP but not in the assignment\n",
    "    unassigned: List[V] = [v for v in csp.variables if v not in assignment]\n",
    "    # get the every possible domain value of the first unassigned variable\n",
    "    var: V = unassigned[0]\n",
    "    before_exdends_assignment(csp)\n",
    "    for value in csp.curr_domains(var)[:]:\n",
    "        assign(csp, var, value, assignment)\n",
    "        # if we're still consistent, we recurse (continue)\n",
    "        if csp.consistent(var, assignment):\n",
    "            result: Optional[Dict[V, D]] = backtracking_search(csp, assignment)\n",
    "            # if we didn't find the result, we will end up backtracking\n",
    "            if result is not None:\n",
    "                return result\n",
    "\n",
    "        unassign(csp, var, assignment)\n",
    "    #we will backtrack to the previous variable assignement\n",
    "    before_backtarck(csp, var, assignment)\n",
    "    return None"
   ]
  },
  {
   "cell_type": "code",
   "execution_count": 32,
   "metadata": {},
   "outputs": [],
   "source": [
    "p = CSP(['a', 'b', 'c'], {'a': [0, 1], 'b': [0, 1], 'c': [0, 1]})\n",
    "p.add_constraint(FunctionConstraint(lambda  x, y : x==y, ['a', 'b']))\n",
    "p.add_constraint(FunctionConstraint(lambda  x, y : x!=y, ['b', 'c']))"
   ]
  },
  {
   "cell_type": "code",
   "execution_count": 33,
   "metadata": {},
   "outputs": [
    {
     "data": {
      "text/plain": [
       "{'a': 0, 'b': 0, 'c': 1}"
      ]
     },
     "execution_count": 33,
     "metadata": {},
     "output_type": "execute_result"
    }
   ],
   "source": [
    "backtracking_search(p)"
   ]
  },
  {
   "cell_type": "markdown",
   "metadata": {},
   "source": [
    "### Exercice 4\n",
    "Résoudre le csp send_more_money en utilisant backtracking_search"
   ]
  },
  {
   "cell_type": "code",
   "execution_count": 34,
   "metadata": {},
   "outputs": [
    {
     "ename": "NameError",
     "evalue": "name 'send_more_money' is not defined",
     "output_type": "error",
     "traceback": [
      "\u001b[1;31m---------------------------------------------------------------------------\u001b[0m",
      "\u001b[1;31mNameError\u001b[0m                                 Traceback (most recent call last)",
      "Cell \u001b[1;32mIn [34], line 1\u001b[0m\n\u001b[1;32m----> 1\u001b[0m csp \u001b[38;5;241m=\u001b[39m \u001b[43msend_more_money\u001b[49m()\n",
      "\u001b[1;31mNameError\u001b[0m: name 'send_more_money' is not defined"
     ]
    }
   ],
   "source": [
    "csp = send_more_money()"
   ]
  },
  {
   "cell_type": "markdown",
   "metadata": {},
   "source": [
    "Résoudre le csp crepto_csp en utilisant backtracking_search"
   ]
  },
  {
   "cell_type": "code",
   "execution_count": null,
   "metadata": {},
   "outputs": [],
   "source": []
  },
  {
   "cell_type": "markdown",
   "metadata": {},
   "source": [
    "### Exercice 5\n",
    "Résoudre le probleme 8-Queen en utilisant backtracking_search"
   ]
  },
  {
   "cell_type": "code",
   "execution_count": null,
   "metadata": {},
   "outputs": [],
   "source": [
    "# call the backtracking_search on queens problem and plot the solution\n",
    "csp  = queens(8)\n",
    "\n",
    "csp.plot_queens(backtracking_search(csp))"
   ]
  },
  {
   "cell_type": "markdown",
   "metadata": {},
   "source": [
    "### Exercice 7\n",
    "\n",
    "\n",
    "#### Machine qui retourne de la monnaie:\n",
    "\n",
    "On s'intéresse à un distributeur automatique de boissons. L'utilisateur insère des pièces de monnaie pour un total de T centimes de Dirhams, puis il sélectionne une boisson, dont le prix est de P centimes de Dirhams (T et P étant des multiples de 10). Il s'agit alors de calculer la monnaie à rendre, sachant que le distributeur a en réserve Nb2 pièces de 2 Dh, Nb1 pièces de 1 Dh, Nb50 pièces de 50 centimes, Nb20 pièces de 20 centimes et Nb10 pièces de 10 centimes. \n",
    "\n",
    "#### Modèle CSP:\n",
    "Variables : X = {X2, X1, X50, X20, X10} \n",
    "Les domaines spécifient que la quantité de pièces retournées, pour un type de pièce donné, est comprise entre 0 et le nombre de pièces de ce type que l'on a en réserve :  D(X2) = {0,1,...,Nb2} , D(X1) = {0,1,...,Nb1},  D(X50) = {0,1,...,Nb50} \n",
    "D(X20) = {0,1,...,Nb20}, et D(X10) = {0,1,...,Nb10} \n",
    " Les contraintes spécifient que la somme à retourner doit être égale à la somme insérée moins le prix à payer :  \n",
    " \n",
    " C = { 200*X2 + 100*X1 + 50*X50 + 20*X20 + 10*X10 = T-P }\n",
    " \n",
    "Ecrire la fonction vending_machine qui crée  et retourne un le CSP correspont à ce problème?\n"
   ]
  },
  {
   "cell_type": "code",
   "execution_count": null,
   "metadata": {},
   "outputs": [],
   "source": [
    "def vending_machine():\n",
    "    pass #Your code instead of pass"
   ]
  },
  {
   "cell_type": "markdown",
   "metadata": {},
   "source": [
    "### Exercice 5\n",
    "Résoudre le csp vending_machine obtenu en utilisant backtracking_search"
   ]
  },
  {
   "cell_type": "code",
   "execution_count": null,
   "metadata": {},
   "outputs": [],
   "source": []
  },
  {
   "cell_type": "code",
   "execution_count": null,
   "metadata": {},
   "outputs": [],
   "source": []
  }
 ],
 "metadata": {
  "kernelspec": {
   "display_name": "Python 3 (ipykernel)",
   "language": "python",
   "name": "python3"
  },
  "language_info": {
   "codemirror_mode": {
    "name": "ipython",
    "version": 3
   },
   "file_extension": ".py",
   "mimetype": "text/x-python",
   "name": "python",
   "nbconvert_exporter": "python",
   "pygments_lexer": "ipython3",
   "version": "3.10.7"
  }
 },
 "nbformat": 4,
 "nbformat_minor": 4
}
