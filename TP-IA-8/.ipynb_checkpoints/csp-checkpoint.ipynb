{
 "cells": [
  {
   "cell_type": "markdown",
   "metadata": {
    "scrolled": false
   },
   "source": [
    "## Unité 4 Problèmes de satisfaction des contraintes\n",
    "\n",
    "\n",
    "Un CSP ou un réseau de contraintes est un triplet (X, D, C) où\n",
    "\n",
    "X ={X1,.., Xn}  est un ensemble fini de n variables\n",
    "\n",
    "D ={D1,.., Dn}, domaines finis où Xi ∈ Di ;\n",
    "\n",
    "C ={C1,.., Cm}, m contraintes sur les variables où chacune définit un prédicat, qui est une relation sur un sous-ensemble particulier de variables (X). \n",
    "\n",
    "Une contrainte sur un ensemble de variables restreint les valeurs que peuvent prendre simultanément ses variables. Commençons par explorer la classe de base générique Constraint que nous utiliserons pour modéliser les contraintes. C'est une classe abstraite qui dispose d'une méthode abstraite **satisfied**\n"
   ]
  },
  {
   "cell_type": "code",
   "execution_count": null,
   "metadata": {},
   "outputs": [],
   "source": [
    "\n",
    "from typing import Generic, TypeVar, Dict, List, Optional, Any\n",
    "from abc import ABC, abstractmethod\n",
    "import copy\n",
    "\n",
    "V = TypeVar('V')  # variable type\n",
    "D = TypeVar('D')  # domain type\n",
    "\n",
    "Unassigned = \"Unassigned_Var\"\n",
    "\n",
    "\n",
    "\n",
    "# Base class for all constraints\n",
    "class Constraint(Generic[V, D], ABC):\n",
    "    # The variables that the constraint is between\n",
    "    def __init__(self, variables: List[V]) -> None:\n",
    "        self.variables = variables\n",
    "    \n",
    "\n",
    "    # Must be overridden by subclasses\n",
    "    @abstractmethod\n",
    "    def satisfied(self, assignment: Dict[V, D]) -> bool:\n",
    "        ...\n",
    "\n"
   ]
  },
  {
   "cell_type": "markdown",
   "metadata": {},
   "source": [
    "Une classe dérivée de la classe de base Contraint qui enveloppe une fonction définissant la logique d'une contrainte donnée peut être ecrire comme suit:"
   ]
  },
  {
   "cell_type": "code",
   "execution_count": null,
   "metadata": {},
   "outputs": [],
   "source": [
    "\n",
    "class FunctionConstraint(Constraint[V, D]):\n",
    "    \"\"\"\n",
    "    Constraint which wraps a function defining the constraint logic\n",
    "\n",
    "    Examples:\n",
    "\n",
    "    >>> fc1 = FunctionConstraint(lambda x, y: x == y, [\"a\", \"b\"])\n",
    "    >>> fc1.satisfied({'a': 1, 'b': 1})\n",
    "    True\n",
    "    >>> fc1.satisfied({'a': 1, 'b': 2})\n",
    "    False\n",
    "    >>> fc2 = FunctionConstraint(lambda x, y, z : x + y == z, [1, 2, 3])\n",
    "    >>> fc2.satisfied({1: 1, 2: 2, 3: 3})\n",
    "    True\n",
    "    >>> fc2.satisfied({1: 5, 2: 1, 3: 3})\n",
    "    False\n",
    "    \"\"\"\n",
    "\n",
    "    def __init__(self, func, variables: List[V]) -> None:\n",
    "        \"\"\"\n",
    "        @param func: Function wrapped and queried for constraint logic\n",
    "        @type  func: callable object\n",
    "        @param variables: list of variables on which this constraint applies\n",
    "        \"\"\"\n",
    "        super().__init__(variables)\n",
    "        self._func = func\n",
    "\n",
    "    def satisfied(self, assignments: Dict[V, D]) -> bool:\n",
    "        parms = [assignments.get(x, Unassigned) for x in self.variables]\n",
    "        missing = parms.count(Unassigned)\n",
    "        if missing:\n",
    "            return True\n",
    "        return self._func(*parms)\n",
    "\n",
    "    def __repr__(self):\n",
    "        #from dill.source import getsource\n",
    "        #func_string = str(getsource(self._func))\n",
    "        #if func_string.find('lambda') > -1:\n",
    "            #i = func_string.find('lambda')\n",
    "            #func_string = func_string[i: -1]\n",
    "        return 'FunctionConstraint on ' + str(self.variables) #+ ' defined by \\n' + func_string + '\\n'\n"
   ]
  },
  {
   "cell_type": "markdown",
   "metadata": {},
   "source": [
    "#### Exemples d'utilisation de la classe FunctionConstraint "
   ]
  },
  {
   "cell_type": "code",
   "execution_count": null,
   "metadata": {},
   "outputs": [],
   "source": [
    "def XeqY(a,b) : \n",
    "    return FunctionConstraint(lambda x, y: x==y, [a, b])\n",
    "print(\"is XeqY('a','b') satisfied on {'a': 1, 'b': 2} ? => \", XeqY('a','b').satisfied({'a': 1, 'b': 2}))"
   ]
  },
  {
   "cell_type": "code",
   "execution_count": null,
   "metadata": {},
   "outputs": [],
   "source": [
    "def XplusYeqZ(a, b, c): \n",
    "    return FunctionConstraint(lambda x, y, z : x + y == z, [a, b, c])\n",
    "print(\"is XplusYeqZ(1, 2, 3) is satisfied on {1:1,2:2,3:3}= \", XplusYeqZ(1, 2, 3).satisfied({1: 1, 2: 2, 3: 3}))"
   ]
  },
  {
   "cell_type": "markdown",
   "metadata": {},
   "source": [
    "### Exercice 1\n",
    "Déclarer et tester la contrainte XneqY\n"
   ]
  },
  {
   "cell_type": "code",
   "execution_count": null,
   "metadata": {},
   "outputs": [],
   "source": []
  },
  {
   "cell_type": "markdown",
   "metadata": {},
   "source": [
    "#### La contrainte tous différents \n",
    "c'est une contrainte spécialisée qui oblige chaque variable de décision dans un groupe donné à prendre une valeur différente de la valeur de chaque autre variable de décision dans ce groupe."
   ]
  },
  {
   "cell_type": "code",
   "execution_count": null,
   "metadata": {},
   "outputs": [],
   "source": [
    "\n",
    "class AllDifferentConstraint(Constraint[V, D]):\n",
    "    \"\"\"\n",
    "    Constraint enforcing that values of all given variables are different\n",
    "    Example:\n",
    "\n",
    "    >>>alldiff = AllDifferentConstraint([\"a\", \"b\", \"c\"])\n",
    "    >>>alldiff.satisfied({1: 1, 2: 2, 3: 3})\n",
    "    True\n",
    "    >>> fc2.satisfied({1: 5, 2: 1, 3: 3})\n",
    "    False\n",
    "    \"\"\"\n",
    "\n",
    "    def __init__(self, variables: List[V]):\n",
    "        super().__init__(variables)\n",
    "\n",
    "    def satisfied(self, assignment: Dict[V, D]) -> bool:\n",
    "        assigned = [x for x in self.variables if x in assignment.keys()]\n",
    "        for i in range(len(assigned) - 1):\n",
    "            for j in range(i + 1, len(assigned)):\n",
    "                if assignment[assigned[i]] == assignment[assigned[j]]:\n",
    "                    return False\n",
    "        return True\n",
    "\n",
    "    def __repr__(self):\n",
    "        return 'AllDiff(' + str(self.variables) + ')'"
   ]
  },
  {
   "cell_type": "markdown",
   "metadata": {},
   "source": [
    "### Exercice 2\n",
    "Tester la contrainte AllDiff"
   ]
  },
  {
   "cell_type": "code",
   "execution_count": null,
   "metadata": {},
   "outputs": [],
   "source": []
  },
  {
   "cell_type": "markdown",
   "metadata": {},
   "source": [
    "#### Modèle CSP\n",
    "La première étape de la résolution d'un problème de satisfaction de contraintes consiste à modéliser le problème. Le modèle est composé de variables de décision et de contraintes. La classe Problem suivante vous permet de creer des modèles CSP.\n",
    "\n",
    "domains: Dict[V, List[D]] indiquer que les domaines sont stockés dans un dictionnaire de la forme {var:liste-de-domaine} où liste-de-domaine est une pile de domaines de var dont chaque element di de la pile correspond au domaine de var au niveau i de l'arbre de recherche. curr_domains(var) est la fonction qui retourne le domaine courant de var. "
   ]
  },
  {
   "cell_type": "code",
   "execution_count": null,
   "metadata": {},
   "outputs": [],
   "source": [
    "# A constraint satisfaction problem consists of variables of type V\n",
    "# that have ranges of values known as domains of type D and constraints\n",
    "# that determine whether a particular variable's domain selection is valid\n",
    "class Problem(Generic[V, D]):\n",
    "    def __init__(self, variables: List[V] = None, domains: Dict[V, List[D]] = None) -> None:\n",
    "        self.variables: List[V] = variables  # variables to be constrained\n",
    "        self.domains: Dict[V, List[List[D]]] = {}  # domain of each variable\n",
    "        if domains:\n",
    "            for v in domains.keys():\n",
    "                self.domains[v] = [domains.get(v)]\n",
    "        self.constraints: Dict[V, List[Constraint[V, D]]] = {}\n",
    "        if variables:\n",
    "            for variable in self.variables:\n",
    "                self.constraints[variable] = []\n",
    "                if variable not in self.domains:\n",
    "                    raise LookupError(\"Every variable should have a domain assigned to it.\")\n",
    "\n",
    "    def add_variable(self, var: V, domain: D):\n",
    "        if var in self.variables:\n",
    "            msg = \"Tried to insert duplicated variable %s\" % repr(var)\n",
    "            raise LookupError(msg)\n",
    "        if not domain:\n",
    "            raise ValueError(\"Domain is empty\")\n",
    "        self.variables.append(var)\n",
    "        self.domains[var] = [domain]\n",
    "\n",
    "    def add_constraint(self, constraint: Constraint[V, D]) -> None:\n",
    "        for variable in constraint.variables:\n",
    "            if variable not in self.variables:\n",
    "                raise LookupError(\"Variable in constraint not in CSP\")\n",
    "            else:\n",
    "                self.constraints[variable].append(constraint)\n",
    "\n",
    "    # Check if the value assignment is consistent by checking all constraints\n",
    "    # for the given variable against it\n",
    "    def consistent(self, variable: V, assignment: Dict[V, D]) -> bool:\n",
    "        for constraint in self.constraints[variable]:\n",
    "            if not constraint.satisfied(assignment):\n",
    "                return False\n",
    "        return True\n",
    "    \n",
    "    def curr_domains(self, v):\n",
    "        return self.domains[v][-1]\n",
    "\n",
    "    def __repr__(self):\n",
    "        rep = ['Variables:\\n']\n",
    "        the_constraints = []\n",
    "        for v in self.variables:\n",
    "            rep.append(str(v) + ' : ' + str(self.curr_domains(v)) + '\\n')\n",
    "            vc = self.constraints.get(v, [])\n",
    "            the_constraints.extend([c for c in vc if c not in the_constraints])\n",
    "\n",
    "        rep.append('Constraints:\\n')\n",
    "        for c in the_constraints:\n",
    "            rep.append(repr(c) + '\\n')\n",
    "        return ''.join(rep)\n",
    "\n",
    "    \n"
   ]
  },
  {
   "cell_type": "markdown",
   "metadata": {},
   "source": [
    "#### Teste de la classe Problem"
   ]
  },
  {
   "cell_type": "code",
   "execution_count": null,
   "metadata": {},
   "outputs": [],
   "source": [
    " \n",
    "p = Problem(['a', 'b', 'c'], {'a': [0, 1], 'b': [0, 1], 'c': [0, 1]})\n",
    "p.add_constraint(XeqY('a', 'b'))# we add the constraint a = b\n",
    "p.add_constraint(XneqY('b', 'c'))# we add the constraint b != b\n",
    "print(p)\n",
    "print(p.consistent('a', {'a':0} ))\n",
    "print(p.consistent('b', {'a':0, 'b':0} ))\n",
    "print(p.consistent('c', {'a':0, 'b':0, 'c':0} ))\n",
    "print(p.consistent('c', {'a':0, 'b':0, 'c':1} ))\n",
    "print(\"the solution is: \", {'a':0, 'b':0, 'c':1} )"
   ]
  },
  {
   "cell_type": "markdown",
   "metadata": {},
   "source": [
    "#### Voisins d'une variable\n",
    "Dans un CSP, les voisins d'une variable x sont l'ensemble constitué des variables partageant une contrainte avec x."
   ]
  },
  {
   "cell_type": "code",
   "execution_count": null,
   "metadata": {},
   "outputs": [],
   "source": [
    "def vars_neighbors(csp: Problem, var:V):\n",
    "    neighbors = set()\n",
    "    if csp.constraints.get(var):\n",
    "        for c in csp.constraints[var]:\n",
    "            n = copy.deepcopy(c.variables)\n",
    "            n.remove(var)\n",
    "            neighbors.update(n)\n",
    "    return neighbors"
   ]
  },
  {
   "cell_type": "code",
   "execution_count": null,
   "metadata": {
    "scrolled": true
   },
   "outputs": [],
   "source": [
    "print('neighbors of a: ', vars_neighbors(p, 'a'))\n",
    "print('neighbors of b: ', vars_neighbors(p, 'b'))"
   ]
  },
  {
   "cell_type": "markdown",
   "metadata": {},
   "source": [
    "#### Opérations auxilières utiler lors de la résolution\n",
    "Lors de la résolution d'un CSP, les opérations de base sont utilisées :\n",
    "Affectez une variable pour étendre l'affectation actuelle. Annulez l'attribution d'une variable lors de la restauration. Maintenir les champs de variables."
   ]
  },
  {
   "cell_type": "code",
   "execution_count": null,
   "metadata": {},
   "outputs": [],
   "source": [
    "def assign(csp, var, val, assignment):\n",
    "    \"\"\"Add {var: val} to assignment; Discard the old value if any.\n",
    "    Do bookkeeping for the number of assignments (nassigns).\"\"\"\n",
    "    if not hasattr(csp, 'nb_assigns'):\n",
    "        csp.nb_assigns = 0\n",
    "    csp.nb_assigns += 1\n",
    "    assignment[var] = val\n",
    "    csp.curr_domains(var).clear()\n",
    "    csp.curr_domains(var).append(val)\n",
    "\n",
    "\n",
    "def unassign(csp, var, assignment):\n",
    "    \"\"\"Remove {var: val} from assignment; that is backtrack.\n",
    "    DO NOT call this if you are changing a variable to a new value;\n",
    "    just call assign for that.\"\"\"\n",
    "    if var in assignment:\n",
    "        del assignment[var]\n",
    "\n",
    "def before_exdends_assignment (csp):\n",
    "    \"\"\" Do bookkeeping for current domains \"\"\"\n",
    "    for v in csp.domains.keys():\n",
    "        csp.domains[v].append(csp.curr_domains(v)[:])\n",
    "\n",
    "\n",
    "def before_backtarck(csp, var, assignment):\n",
    "    # Reset current domains to be the previous domains\n",
    "    for v in csp.domains.keys():\n",
    "        del csp.domains[v][-1]\n",
    "    if var in assignment.keys():\n",
    "        del assignment[var]"
   ]
  },
  {
   "cell_type": "markdown",
   "metadata": {},
   "source": [
    "#### Algorithme de résolution de CSP backtracking_search recursive"
   ]
  },
  {
   "cell_type": "code",
   "execution_count": null,
   "metadata": {},
   "outputs": [],
   "source": [
    "def backtracking_search(csp, assignment=None) -> Optional[Dict[V, D]]:\n",
    "    # assignment is complete if every variable is assigned (our base case)\n",
    "    if assignment is None:\n",
    "        assignment = {}\n",
    "    if len(assignment) == len(csp.variables):\n",
    "        return assignment\n",
    "        # get all variables in the CSP but not in the assignment\n",
    "    unassigned: List[V] = [v for v in csp.variables if v not in assignment]\n",
    "    # get the every possible domain value of the first unassigned variable\n",
    "    var: V = unassigned[0]\n",
    "    before_exdends_assignment(csp)\n",
    "    for value in csp.curr_domains(var)[:]:\n",
    "        assign(csp, var, value, assignment)\n",
    "        # if we're still consistent, we recurse (continue)\n",
    "        if csp.consistent(var, assignment):\n",
    "            result: Optional[Dict[V, D]] = backtracking_search(csp, assignment)\n",
    "            # if we didn't find the result, we will end up backtracking\n",
    "            if result is not None:\n",
    "                return result\n",
    "\n",
    "        unassign(csp, var, assignment)\n",
    "    #we will backtrack to the previous variable assignement\n",
    "    before_backtarck(csp, var, assignment)\n",
    "    return None"
   ]
  },
  {
   "cell_type": "code",
   "execution_count": null,
   "metadata": {},
   "outputs": [],
   "source": [
    "p = Problem(['a', 'b', 'c'], {'a': [0, 1], 'b': [0, 1], 'c': [0, 1]})\n",
    "p.add_constraint(FunctionConstraint(lambda  x, y : x==y, ['a', 'b']))\n",
    "p.add_constraint(FunctionConstraint(lambda  x, y : x!=y, ['b', 'c']))"
   ]
  },
  {
   "cell_type": "code",
   "execution_count": null,
   "metadata": {},
   "outputs": [],
   "source": [
    "backtracking_search(p)"
   ]
  },
  {
   "cell_type": "markdown",
   "metadata": {},
   "source": [
    "### Exercice 3\n",
    "Ajouter une ligne pour corriger la methode send_more_mony() suivate:"
   ]
  },
  {
   "cell_type": "code",
   "execution_count": null,
   "metadata": {},
   "outputs": [],
   "source": [
    "def send_more_mony():\n",
    "    \"\"\" SEND+MORE=MONEY is a cryptarithmetic puzzle, meaning that it is about finding\n",
    "    digits that replace letters to make a mathematical statement true.\n",
    "    Each letter in the problem represents one digit (0–9).\n",
    "    No two letters can represent the same digit. When a letter repeats,\n",
    "    it means a digit repeats in the solution.\n",
    "    To solve this puzzle by hand, it helps to line up the words.\n",
    "         SEND\n",
    "        +MORE\n",
    "       =MONEY\"\"\"\n",
    "    variables: List[str] = list(set('SENDMOREMONEY'))\n",
    "    domains: Dict[str, List[int]] = {}\n",
    "    for letter in variables:\n",
    "        domains[letter] = [0, 1, 2, 3, 4, 5, 6, 7, 8, 9]\n",
    "\n",
    "    send_more_mony_problem = Problem(variables, domains)\n",
    "    func = lambda s, e, n, d, m, o, r, y: \\\n",
    "        s * 1000 + e * 100 + n * 10 + d \\\n",
    "        + m * 1000 + o * 100 + r * 10 + e \\\n",
    "        == m * 10000 + o * 1000 + n * 100 + e * 10 + y\n",
    "    send_more_mony_problem.add_constraint(FunctionConstraint(func, variables))\n",
    "    neq0 = lambda x: x != 0\n",
    "    send_more_mony_problem.add_constraint(FunctionConstraint(neq0, ['S']))\n",
    "    send_more_mony_problem.add_constraint(FunctionConstraint(neq0, ['M']))\n",
    "    return send_more_mony_problem"
   ]
  },
  {
   "cell_type": "markdown",
   "metadata": {},
   "source": [
    "### Exercice 4\n",
    "Résoudre le csp send_more_money obtenu en utilisant backtracking_search"
   ]
  },
  {
   "cell_type": "code",
   "execution_count": null,
   "metadata": {},
   "outputs": [],
   "source": []
  },
  {
   "cell_type": "markdown",
   "metadata": {},
   "source": [
    "#### N-QUEENS\n",
    "\n",
    "Le casse-tête des N-reines consiste à placer N reines d'échecs sur un échiquier NxN de manière à ce que deux reines ne se menacent pas l'une l'autre. Ici N est un nombre naturel. Comme le problème de coloration de graphe, NQueens est également implémenté dans le module csp. La classe NQueensCSP hérite de la classe CSP. Il apporte quelques modifications aux méthodes pour s'adapter à ce problème particulier. Les reines sont supposées être placées une par colonne, de gauche à droite. Cela signifie que la position (x, y) représente (var, val) dans le CSP. La contrainte qui doit être transmise au CSP est définie dans la fonction queens_constraint. La contrainte est satisfaite (vrai) si A, B sont vraiment la même variable, ou s'ils ne sont pas sur la même ligne, sur une diagonale décendante ou une diagonale accendante."
   ]
  },
  {
   "cell_type": "code",
   "execution_count": null,
   "metadata": {},
   "outputs": [],
   "source": [
    "def queens(N):\n",
    "    columns: List[int] = list(range(1, N+1))\n",
    "    rows: Dict[int, List[int]] = {}\n",
    "    for column in columns:\n",
    "        rows[column] = list(range(1, N+1))\n",
    "    csp: Problem[int, int] = Problem(columns, rows)\n",
    "\n",
    "    class queens_constraint(Constraint[int, int]):\n",
    "        def __init__(self, columns: List[int]) -> None:\n",
    "            super().__init__(columns)\n",
    "            self.columns: List[int] = columns\n",
    "\n",
    "        def satisfied(self, assignment: Dict[int, int]) -> bool:\n",
    "            # q1c = queen 1 column, q1r = queen 1 row\n",
    "            for q1c, q1r in assignment.items():\n",
    "                # q2c = queen 2 column\n",
    "                for q2c in range(q1c + 1, len(self.columns) + 1):\n",
    "                    if q2c in assignment:\n",
    "                        q2r: int = assignment[q2c] # q2r = queen 2 row\n",
    "                        if q1r == q2r: # same row?\n",
    "                            return False\n",
    "                        if abs(q1r - q2r) == abs(q1c - q2c): # same diagonal?\n",
    "                            return False\n",
    "            return True # no conflict\n",
    "    csp.add_constraint(queens_constraint(columns))\n",
    "    \n",
    "    import  numpy as np\n",
    "    from PIL import Image\n",
    "    %matplotlib inline\n",
    "    import matplotlib.pyplot as plt\n",
    "    # Function to plot NQueensCSP from https://github.com/aimacode/aima-python/blob/master/notebook.py\n",
    "    def plot_queens(solution):\n",
    "        n = len(solution) \n",
    "        board = np.array([2 * int((i + j) % 2) \n",
    "                          for j in range(n) for i in range(n)]).reshape((n, n))\n",
    "        im = Image.open('queen_s.png')\n",
    "        height = im.size[1]\n",
    "        im = np.array(im).astype(np.float) / 255\n",
    "        fig = plt.figure(figsize=(7, 7))\n",
    "        ax = fig.add_subplot(111)\n",
    "        ax.set_title('{} Queens'.format(n))\n",
    "        plt.imshow(board, cmap='binary', interpolation='nearest')\n",
    "        # NQueensCSP gives a solution as a dictionary\n",
    "        for (k, v) in solution.items():\n",
    "            newax = fig.add_axes([0.064 + ((k-1) * 0.112),\n",
    "                                  0.062 + ((n-1 - (v-1)) * 0.112), 0.1, 0.1], zorder=1)\n",
    "            newax.imshow(im)\n",
    "            newax.axis('off')\n",
    "        # NQueensProblem gives a solution as a list\n",
    "        fig.tight_layout()\n",
    "        plt.show()\n",
    "\n",
    "            \n",
    "    if not hasattr(csp, 'plot_n_queens'):\n",
    "        csp.plot_queens = plot_queens\n",
    "\n",
    "        \n",
    "    return csp\n",
    "\n",
    "\n"
   ]
  },
  {
   "cell_type": "markdown",
   "metadata": {},
   "source": [
    "### Exercice 5\n",
    "Résoudre le probleme 8-Queen en utilisant backtracking_search"
   ]
  },
  {
   "cell_type": "code",
   "execution_count": null,
   "metadata": {},
   "outputs": [],
   "source": [
    "# call the backtracking_search on queens problem and plot the solution\n",
    "csp  = queens(8)\n",
    "\n",
    "csp.plot_queens(backtracking_search(csp))"
   ]
  },
  {
   "cell_type": "markdown",
   "metadata": {},
   "source": [
    "### Exercice 7\n",
    "\n",
    "\n",
    "#### Machine qui retourne de la monnaie:\n",
    "\n",
    "On s'intéresse à un distributeur automatique de boissons. L'utilisateur insère des pièces de monnaie pour un total de T centimes de Dirhams, puis il sélectionne une boisson, dont le prix est de P centimes de Dirhams (T et P étant des multiples de 10). Il s'agit alors de calculer la monnaie à rendre, sachant que le distributeur a en réserve Nb2 pièces de 2 Dh, Nb1 pièces de 1 Dh, Nb50 pièces de 50 centimes, Nb20 pièces de 20 centimes et Nb10 pièces de 10 centimes. \n",
    "\n",
    "#### Modèle CSP:\n",
    "Variables : X = {X2, X1, X50, X20, X10} \n",
    "Les domaines spécifient que la quantité de pièces retournées, pour un type de pièce donné, est comprise entre 0 et le nombre de pièces de ce type que l'on a en réserve :  D(X2) = {0,1,...,Nb2} , D(X1) = {0,1,...,Nb1},  D(X50) = {0,1,...,Nb50} \n",
    "D(X20) = {0,1,...,Nb20}, et D(X10) = {0,1,...,Nb10} \n",
    " Les contraintes spécifient que la somme à retourner doit être égale à la somme insérée moins le prix à payer :  \n",
    " \n",
    " C = { 200*X2 + 100*X1 + 50*X50 + 20*X20 + 10*X10 = T-P }\n",
    " \n",
    "Ecrire la fonction vending_machine qui crée  et retourne un le CSP correspont à ce problème?\n"
   ]
  },
  {
   "cell_type": "code",
   "execution_count": null,
   "metadata": {},
   "outputs": [],
   "source": [
    "def vending_machine():\n",
    "    pass #Your code instead of pass"
   ]
  },
  {
   "cell_type": "markdown",
   "metadata": {},
   "source": [
    "### Exercice 5\n",
    "Résoudre le csp vending_machine obtenu en utilisant backtracking_search"
   ]
  },
  {
   "cell_type": "code",
   "execution_count": null,
   "metadata": {},
   "outputs": [],
   "source": []
  },
  {
   "cell_type": "markdown",
   "metadata": {},
   "source": [
    "### PROPAGATION DES CONTRAINTES\n",
    "\n",
    "Les algorithmes qui résolvent les CSP ont le choix entre rechercher et/ou faire une propagation de contraintes, un type spécifique d'inférence. Les contraintes peuvent être utilisées pour réduire le nombre de valeurs légales pour une autre variable, ce qui à son tour peut réduire les valeurs légales pour une autre variable, et ainsi de suite.\n",
    "\n",
    "\n",
    "La propagation des contraintes tente d'imposer la cohérence locale. Considérez chaque variable comme un nœud dans un graphe et chaque contrainte binaire comme un arc. L'application de la cohérence locale entraîne l'élimination des valeurs incohérentes dans tout le graphique, un peu comme l'algorithme GraphPlan dans la planification, où les liens mutex sont supprimés d'un graphique de planification. Il existe différents types de cohérences locales :\n",
    "\n",
    "- Cohérence des noeuds\n",
    "- Cohérence de l'arc\n",
    "\n",
    "\n",
    "La technique la plus simple pour évaluer l'effet d'une affectation spécifique à une variable est appelée vérification prospective (forward checking).  Compte tenu de la solution partielle actuelle (assignment) et d'une affectation candidate (var) à évaluer, il vérifie si une autre variable peut prendre une valeur cohérente. En d'autres termes, il considère chaque autre variable  xk qui n'est toujours pas affectée, et vérifie s'il existe une valeur de xk qui est cohérente avec l'affectation partiel. Plus généralement, la vérification avant détermine les valeurs pour  xk qui sont cohérentes avec l'affectation étendue (assignment).\n",
    "\n",
    " <a href=\"csp_demos.html\" target=\"_blank\">Exemple de propagation de contrainte</a>"
   ]
  },
  {
   "cell_type": "code",
   "execution_count": null,
   "metadata": {},
   "outputs": [],
   "source": [
    "def forward_check(csp, var, assignment):\n",
    "    \"\"\" Do forward checking (current domain reduction) for all variable not yet assigned.\n",
    "    @:param csp: the object csp problem\n",
    "    @:param var last assigned variable\n",
    "    @:param assignment the current assignment extended by the var's value assignment\n",
    "    \"\"\"\n",
    "    for x in vars_neighbors(csp, var):\n",
    "        if x not in assignment:\n",
    "            for v in csp.curr_domains(x)[:]:\n",
    "                assignment[x] = v\n",
    "                if not csp.consistent(x, assignment):\n",
    "                    csp.curr_domains(x).remove(v)\n",
    "                    if not csp.curr_domains(x):\n",
    "                        del assignment[x]\n",
    "                        return False\n",
    "                del assignment[x]\n",
    "        return True\n"
   ]
  },
  {
   "cell_type": "markdown",
   "metadata": {},
   "source": [
    "### AC-3\n",
    "\n",
    "Avant de plonger dans l'AC-3, nous devons savoir ce qu'est la cohérence d'arc.\n",
    "Une variable Xi est arc-cohérente par rapport à une autre variable Xj si pour chaque valeur dans le domaine courant Di il y a une certaine valeur dans le domaine\n",
    "Dj qui satisfait la contrainte binaire sur l'arc (Xi, Xj).\n",
    "\n",
    "Un réseau est cohérent à l'arc si chaque variable est cohérent à l'arc avec toutes les autres variables.\n",
    "\n",
    "AC-3 est un algorithme qui applique la cohérence de l'arc. Après avoir appliqué AC-3, soit chaque arc est cohérent, soit une variable a un domaine vide, indiquant que le CSP ne peut pas être résolu. Voyons comment AC3 est implémenté dans le module.\n",
    "\n",
    "\n",
    "Clairement, un arc (Xi,Xj) peut être rendu cohérent en supprimant simplement les valeurs du domaine de Vi pour lesquelles il n'existe pas de valeur correspondante dans le domaine de Dj telle que la contrainte binaire entre Xi et Xj soit satisfaite (note, que la suppression de telles valeurs n'élimine aucune solution du CSP d'origine). La fonction suivante fait précisément cela.\n"
   ]
  },
  {
   "cell_type": "code",
   "execution_count": null,
   "metadata": {},
   "outputs": [],
   "source": [
    "def every(predicate, seq):\n",
    "    \"\"\"True if every element of seq satisfies predicate. \"\"\"\n",
    "    for x in seq:\n",
    "        if not predicate(x):\n",
    "            return False\n",
    "    return True\n",
    "\n",
    "\n",
    "def revise(csp, Xi, Xj):\n",
    "    \" Return true if we remove a value.\"\n",
    "    removed = False\n",
    "    for vi in csp.curr_domains(Xi)[:]:\n",
    "        # If Xi=vi conflicts with Xj=vj for every possible y, eliminate Xi=vi\n",
    "        if every(lambda vj: not csp.consistent(Xj, {Xj: vj, Xi: vi}), csp.curr_domains(Xj)):\n",
    "            csp.curr_domains(Xi).remove(vi)\n",
    "            removed = True\n",
    "    return removed"
   ]
  },
  {
   "cell_type": "markdown",
   "metadata": {},
   "source": [
    "Pour que chaque arc du réseau de contraintes soit cohérente, il ne suffit pas d'exécuter REVISE pour chaque arc une seule fois. Il faut s'assurer que les autres arcs ne deviennent pas incohérents par des suppressions tardives. Une fois que REVISE réduit le domaine d'une variable Xi, nous révisons alors toutes les arêtes éventuellement affectées par cette dernière révision car certains des membres du domaine de Xj peuvent ne plus être compatibles avec les membres restants du domaine révisé de Xi. L'algorithme suivant, connu sous le nom d'AC-3, fait précisément cela."
   ]
  },
  {
   "cell_type": "code",
   "execution_count": null,
   "metadata": {},
   "outputs": [],
   "source": [
    "def AC3(csp, queue=None):\n",
    "    \"\"\" Constraint Propagation with AC-3\"\"\"\n",
    "    if queue is None:\n",
    "        queue = [(Xi, Xk) for Xi in csp.variables for Xk in vars_neighbors(csp, Xi)]\n",
    "    while queue:\n",
    "        (Xi, Xj) = queue.pop()\n",
    "        if revise(csp, Xi, Xj):\n",
    "            if not csp.curr_domains(Xi):\n",
    "                return False\n",
    "            for Xk in vars_neighbors(csp, Xi):\n",
    "                queue.append((Xk, Xi))\n",
    "    return True\n",
    "\n"
   ]
  },
  {
   "cell_type": "markdown",
   "metadata": {},
   "source": [
    "### Hybridation de propagation de contraintes et recherche de solution. \n",
    "L'algorithme suivant résolveles CSP par la rechercher et la  propagation de contraintes à la fois."
   ]
  },
  {
   "cell_type": "code",
   "execution_count": null,
   "metadata": {},
   "outputs": [],
   "source": [
    "def backtracking_with_propagation(csp, propagation='fc', assignment=None) -> Optional[Dict[V, D]]:\n",
    "    # assignment is complete if every variable is assigned (our base case)\n",
    "    if assignment is None:\n",
    "        assignment = {}\n",
    "    if len(assignment) == len(csp.variables):\n",
    "        return assignment\n",
    "        # get all variables in the CSP but not in the assignment\n",
    "    unassigned: List[V] = [v for v in csp.variables if v not in assignment]\n",
    "    # get the every possible domain value of the first unassigned variable\n",
    "    var: V = unassigned[0]\n",
    "    new_assignment(csp)\n",
    "    for value in csp.curr_domains(var)[:]:\n",
    "        assign(csp, var, value, assignment)\n",
    "        # if we're still consistent, we recurse (continue)\n",
    "        if csp.consistent(var, assignment):\n",
    "            still_consistent = True\n",
    "            if propagation == 'fc':\n",
    "                still_consistent = forward_check(csp, var, assignment)\n",
    "            elif propagation == 'mac':\n",
    "                still_consistent = AC3(csp)\n",
    "            if still_consistent:\n",
    "                result: Optional[Dict[V, D]] = backtracking_search(csp, assignment)\n",
    "                # if we didn't find the result, we will end up backtracking\n",
    "                if result is not None:\n",
    "                    return result\n",
    "        unassign(csp, var, assignment)\n",
    "\n",
    "    new_backtarck(csp, var, assignment)\n",
    "    return None\n",
    "\n",
    "\n",
    "def forward_checking_search(csp):\n",
    "    return backtracking_with_propagation(csp, propagation='fc')\n",
    "\n",
    "\n",
    "def mac_search(csp):\n",
    "    return backtracking_with_propagation(csp, propagation='mac')"
   ]
  },
  {
   "cell_type": "markdown",
   "metadata": {},
   "source": [
    "### Exercice  \n",
    "Executer et Comparez Comparez les trois algorithmes obtenus :backtracking_search, forward_checking_search, et mac_search sur le problème des 8 reines (queens(8))."
   ]
  },
  {
   "cell_type": "code",
   "execution_count": null,
   "metadata": {},
   "outputs": [],
   "source": []
  },
  {
   "cell_type": "markdown",
   "metadata": {},
   "source": [
    "### CSPs aléatoires  \n",
    "Pour comparer les algorithmes de résolution CSP on utilise souvent des CSP binaires générés aléatoirement. La fonction suite vous permetera de générer des instances de CSP aléatoire."
   ]
  },
  {
   "cell_type": "code",
   "execution_count": null,
   "metadata": {},
   "outputs": [],
   "source": [
    "from math import log, pow\n",
    "from random import choice\n",
    "\n",
    "\n",
    "def generate_csp(n, p, alpha, r):\n",
    "    \"\"\"\n",
    "    Description\n",
    "    -----------\n",
    "    A binary random CSP instance generator following the Model RB from [1].\n",
    "    The inputs are n, p, alpha and r where n is the number of variables, p (0 < p < 1) is the constraint tightness, and r and alpha (0 < r, alpha < 1) are two positive constants used by the model RB.\n",
    "    Example\n",
    "    -------\n",
    "    >>> n = 5\n",
    "    >>> p = 0.7\n",
    "    >>> alpha = 0.9\n",
    "    >>> r = 0.2\n",
    "    >>> csp = generate_csp(n, p, alpha, r)\n",
    "    Variables:\n",
    "    0 : [0, 1, 2, 3]\n",
    "    1 : [0, 1, 2, 3]\n",
    "    2 : [0, 1, 2, 3]\n",
    "    3 : [0, 1, 2, 3]\n",
    "    4 : [0, 1, 2, 3]\n",
    "    Constraints:\n",
    "    TableConstraint([0, 2]):\n",
    "     [(3, 1), (3, 0), (2, 0), (3, 1), (1, 1), (2, 0), (0, 2), (1, 0), (3, 0), (0, 0), (3, 3), (0, 1)]\n",
    "    TableConstraint([4, 1]):\n",
    "     [(3, 0), (2, 0), (1, 0), (0, 1), (1, 3), (1, 3), (2, 1), (0, 3), (3, 1), (3, 2), (1, 1), (1, 2)]\n",
    "    TableConstraint([2, 3]):\n",
    "     [(1, 3), (2, 1), (1, 1), (0, 1), (0, 3), (2, 0), (1, 3), (2, 1), (3, 1), (3, 2), (0, 1), (1, 0)]\n",
    "    \"\"\"\n",
    "\n",
    "    # STEP 0\n",
    "    # Compute variables of the CSP\n",
    "\n",
    "    variables = list(range(0, n))\n",
    "    # Compute domain of each variable\n",
    "    d = round(pow(n, alpha))  # domain size of each variable\n",
    "    domains = {}\n",
    "    for var in variables:\n",
    "        domains[var] = list(range(0, d))\n",
    "    csp = Problem(variables, domains)\n",
    "    # STEP 1\n",
    "    # Compute quantity of constrains\n",
    "    constrains_qnt = round(r * n * log(n))\n",
    "    # Select 2 variables for each constrain, without repetition\n",
    "    var_constrains = []\n",
    "    while len(var_constrains) <= constrains_qnt:\n",
    "        var1, var2 = (choice(variables), choice(variables))\n",
    "        # make sure we select a new unique pair of variables\n",
    "        if (var1 != var2) and (not (var1, var2) in var_constrains) and (not (var2, var1) in var_constrains):\n",
    "            var_constrains.append((var1, var2))\n",
    "\n",
    "    # STEP 2\n",
    "    # Compute quantity of incompatible pairs of values\n",
    "    incomp_qnt = round(p * (pow(d, 2)))\n",
    "    # Select pair of incompatible values\n",
    "    # For each constrain\n",
    "    for var1, var2 in var_constrains:\n",
    "        incomp_values = []\n",
    "        while len(incomp_values) <= incomp_qnt:\n",
    "            val1, val2 = (choice(domains[var1]), choice(domains[var2]))\n",
    "            # make sure we select a new unique pair of variables\n",
    "            if (not (val1, val2) in incomp_values) or (not (val2, val1) in incomp_values):\n",
    "                incomp_values.append((val1, val2))\n",
    "        csp.add_constraint(TableConstraint([var1, var2], incomp_values))\n",
    "\n",
    "    # Return full CSP\n",
    "\n",
    "    return csp"
   ]
  },
  {
   "cell_type": "markdown",
   "metadata": {},
   "source": [
    " ### Exercice  \n",
    "Comparez les trois algorithmes obtenus :backtracking_search, forward_checking_search, et mac_search sur les problèmes CSP aléatoires générés par les arguments suivents :\n",
    "\n",
    "- n = 8\n",
    "- r = 0.6\n",
    "- alpha= 0.8\n",
    "- p  varie selon les valeurs: [0.3,  0.4, 0.5, 0.6, 0.7, 0.8, 0.9]\n",
    "\n",
    "Tracer la courbe qui illustre le nombre d'affectation en fonction de p\n"
   ]
  },
  {
   "cell_type": "code",
   "execution_count": null,
   "metadata": {},
   "outputs": [],
   "source": [
    "all_results={}\n",
    "#Your code here,  example   :\n",
    "#for p in [0.3, 0.4, 0.5, 0.6, 0.7, 0.8, 0.9]: \n",
    "    #results={'fc':[], 'mac':[], 'No'} # No means without constraints propagation\n",
    "    #for each run in range(20):\n",
    "          # generate csp\n",
    "          # copy csp 3 times\n",
    "          # resolve csp by each strategy k and save result by\n",
    "          #results[k].append(csp.nb_assigns)\n",
    "    #all_results[p] = results\n",
    "    \n",
    "#use matplotlib to plot all results   "
   ]
  },
  {
   "cell_type": "code",
   "execution_count": null,
   "metadata": {},
   "outputs": [],
   "source": []
  },
  {
   "cell_type": "code",
   "execution_count": null,
   "metadata": {},
   "outputs": [],
   "source": []
  }
 ],
 "metadata": {
  "kernelspec": {
   "display_name": "Python 3 (ipykernel)",
   "language": "python",
   "name": "python3"
  },
  "language_info": {
   "codemirror_mode": {
    "name": "ipython",
    "version": 3
   },
   "file_extension": ".py",
   "mimetype": "text/x-python",
   "name": "python",
   "nbconvert_exporter": "python",
   "pygments_lexer": "ipython3",
   "version": "3.9.12"
  }
 },
 "nbformat": 4,
 "nbformat_minor": 4
}
